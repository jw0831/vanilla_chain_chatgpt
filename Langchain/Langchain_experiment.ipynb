{
  "cells": [
    {
      "attachments": {},
      "cell_type": "markdown",
      "metadata": {
        "id": "NXBh_CjW-TVd"
      },
      "source": [
        "# 문서 검색 챗봇 만들기 LangChain"
      ]
    },
    {
      "cell_type": "code",
      "execution_count": 1,
      "metadata": {
        "colab": {
          "base_uri": "https://localhost:8080/"
        },
        "id": "oiCOzIOapszR",
        "outputId": "1774f822-cc88-4c20-94af-296c8f088c0d"
      },
      "outputs": [],
      "source": [
        "!pip install -q grobid-client langchain openai faiss-cpu PyPDF2 tiktoken"
      ]
    },
    {
      "cell_type": "markdown",
      "metadata": {
        "id": "EqmHHTLs2OKW"
      },
      "source": [
        "## OpenAI API Key\n",
        "\n",
        "https://platform.openai.com/account/api-keys"
      ]
    },
    {
      "cell_type": "code",
      "execution_count": 3,
      "metadata": {
        "id": "AYp0-bG4rzGl"
      },
      "outputs": [],
      "source": [
        "import openai\n",
        "from PyPDF2 import PdfReader\n",
        "from langchain.embeddings.openai import OpenAIEmbeddings\n",
        "from langchain.text_splitter import CharacterTextSplitter\n",
        "from langchain.vectorstores import ElasticVectorSearch, Pinecone, Weaviate, FAISS\n",
        "import os\n",
        "\n",
        "os.environ[\"OPENAI_API_KEY\"] = \"\""
      ]
    },
    {
      "cell_type": "code",
      "execution_count": 6,
      "metadata": {
        "colab": {
          "base_uri": "https://localhost:8080/"
        },
        "id": "PjqteVfBtq3s",
        "outputId": "fe43abb5-4530-484a-8d5a-e6c0b8939580"
      },
      "outputs": [
        {
          "name": "stdout",
          "output_type": "stream",
          "text": [
            "--2023-04-18 19:34:18--  https://github.com/kairess/toy-datasets/blob/master/Demian.pdf\n",
            "github.com (github.com) 해석 중... 20.200.245.247\n",
            "다음으로 연결 중: github.com (github.com)|20.200.245.247|:443... 연결했습니다.\n",
            "HTTP 요청을 보냈습니다. 응답 기다리는 중... 200 OK\n",
            "길이: 지정하지 않음 [text/html]\n",
            "저장 위치: `Demian.pdf'\n",
            "\n",
            "Demian.pdf              [ <=>                ] 141.66K  --.-KB/s    /  0.02s   \n",
            "\n",
            "2023-04-18 19:34:19 (5.79 MB/s) - `Demian.pdf' 저장함 [145064]\n",
            "\n"
          ]
        }
      ],
      "source": [
        "!wget https://github.com/kairess/toy-datasets/blob/master/Demian.pdf"
      ]
    },
    {
      "cell_type": "markdown",
      "metadata": {
        "id": "jpHbs7Sm2IoI"
      },
      "source": [
        "## Preprocess a PDF file"
      ]
    },
    {
      "cell_type": "code",
      "execution_count": 8,
      "metadata": {},
      "outputs": [
        {
          "data": {
            "text/plain": [
              "\"DEMIAN • \\nDownloaded from https://www.holybooks.comHERMANN \\nHESSE • DEMIAN \\n* \\nTranslated by W. J. Strachan \\nLondon \\nDownloaded from https://www.holybooks.comPrologue \\nI cannot tell my story without going a long way back. \\nIf it were possible I would go back much farther still to \\nthe very earliest years of my childhood and beyond them \\nto my family origins. \\nWhen poets write novels they are apt to behave as if \\nthey were gods, with the power to look beyond and com\\xad\\nprehend any human story and serve it up as if the \\nAlmighty himself, omnipresent, were relating it in all \\nits naked truth. That I am no more able to do than the \\npoets. But my story is more important to me than any \\npoet's story to him, for it is my own-and it is the story \\nof a huffian being-not an invented, idealised person \\nbut a real, live, uniq:-e being. What constitutes a real, \\nlive human being is more of a mystery than ever these \\ndays, and men-each one of whom is a valuable, unique \\nexperiment on the part of natur\""
            ]
          },
          "execution_count": 8,
          "metadata": {},
          "output_type": "execute_result"
        }
      ],
      "source": [
        "reader = PdfReader(\"./Demian.pdf\")\n",
        "\n",
        "raw_text = \"\"\n",
        "\n",
        "for i, page in enumerate(reader.pages):\n",
        "    text = page.extract_text()\n",
        "    if text:\n",
        "        raw_text += text\n",
        "\n",
        "raw_text[:1000]"
      ]
    },
    {
      "cell_type": "markdown",
      "metadata": {
        "id": "jIhl0mzo3z3P"
      },
      "source": [
        "## Summarize 요약"
      ]
    },
    {
      "cell_type": "code",
      "execution_count": 4,
      "metadata": {
        "id": "yanA4V_uq_Nx"
      },
      "outputs": [
        {
          "name": "stderr",
          "output_type": "stream",
          "text": [
            "/Users/jaden/miniforge3/envs/autogpt/lib/python3.9/site-packages/langchain/llms/openai.py:661: UserWarning: You are trying to use a chat model. This way of initializing it is no longer supported. Instead, please use: `from langchain.chat_models import ChatOpenAI`\n",
            "  warnings.warn(\n"
          ]
        }
      ],
      "source": [
        "from langchain import OpenAI\n",
        "from langchain.chains import AnalyzeDocumentChain\n",
        "from langchain.chains.summarize import load_summarize_chain\n",
        "# https://github.com/hwchase17/langchain/issues/1368\n",
        "from langchain.llms import OpenAIChat\n",
        "from langchain.chat_models import ChatOpenAI\n",
        "\n",
        "llmc = ChatOpenAI(temperature=0.9, model_name=\"gpt-3.5-turbo\")\n",
        "\n",
        "llm = OpenAI(temperature=0)\n",
        "\n",
        "summary_chain = load_summarize_chain(llm, chain_type=\"map_reduce\")\n",
        "summarize_document_chain = AnalyzeDocumentChain(combine_docs_chain=summary_chain)\n",
        "\n",
        "summary_chain_cgpt35 = load_summarize_chain(llmc, chain_type=\"map_reduce\")\n",
        "summarize_document_chain_cgpt35 = AnalyzeDocumentChain(combine_docs_chain=summary_chain_cgpt35)"
      ]
    },
    {
      "cell_type": "code",
      "execution_count": 7,
      "metadata": {},
      "outputs": [
        {
          "name": "stdout",
          "output_type": "stream",
          "text": [
            "('여기 두 존재가 있습니다. 하나는 인공지능이고요. 하나는 인간입니다. 겉으로 보기에는 완전히 똑같은 두 존재의 정체성을 가르는 것은 단 '\n",
            " '한 가지입니다. 그것은 바로 생각하고 감정을 느낄 수 있는 힘. 의식입니다. 우리는 이 의식이라는 게 그냥 뇌라는 장기에서 뚝딱 만들어진 '\n",
            " '무산물이라고 배워왔습니다. 하지만 최첨단 현대 물리학계에서 기존의 독념을 완전히 뒤집어버리는 관념이 제기되고 있습니다. 현재 생존해 있는 '\n",
            " '과학자들 중에서 가장 위대한 물리학자로 칭송받고 있는 과학자 2020년 노벨 물리학상을 수상한 로저 펜 로즈는 이렇게 말했습니다. 인간의 '\n",
            " '의식은 뇌라는 기계장치 따위에서는 만들어질 수 없는 그 무언가이다. 만약 어떤 사람이 일시적으로 사망하게 되면 그 사람의 두뇌 속 '\n",
            " '미세소관이라는 부분에 있던 양자 정보가 우주로 흘러들어가게 된다. 그러나 죽음 근처까지 갔던 사람이 다시 살아난다면 두뇌에서 유출된 양자 '\n",
            " '정보가 다시 두뇌 속으로 돌아가게 된다. 이때가 바로 임사체험을 하게 되는 경우다. 만약 그가 되살아나지 않고 완전히 죽게 되더라도 그의 '\n",
            " '두뇌 속에 있던 양자 정보는 영혼으로써 육체 바깥에서 영원히 존재할 수 있다. 왜냐? 양자 정보는 절대로 파괴될 수 없기 때문이다. 이게 '\n",
            " '도대체 무슨 말인지 아리가리 하신 분들을 위해서 양자 의식 이론의 핵심만 간단하게 요약해보겠습니다. 인간의 의식은 양자 물질로 구성되어 '\n",
            " '있기 때문에 양자 에너지적 성질을 가진다. 의식은 양자 에너지의 형태로 두뇌 속에 미세소관이라는 부분에 담겨 있다가 육체가 죽는 순간 몸 '\n",
            " '밖으로 빠져나간다. 그렇게 육체 바깥으로 빠져나간 의식 에너지는 인간의 육체를 떠나서도 영원히 존재할 수 있다. 아니 그러니까 인류가 '\n",
            " '오래전부터 영혼이라고 불러봤던 것이 비로소 현대 물리학인 양자 역학으로도 설명이 가능하게 된 거예요. 자 의식이 양자적 성질을 가지는 '\n",
            " '에너지라면 이 의식 에너지는 존재하는 모든 에너지에 예외 없이 적용되는 에너지 보존법칙에 영향을 받게 됩니다. 이 에너지 보존법칙에 대한 '\n",
            " '설명을 부처 성인과 함께 진행해보도록 하겠습니다. 존재하는 모든 것은 텅 비어있는 원자로 구성되어 있다. 원자는 텅 비어있기 때문에 '\n",
            " '고유한 성질이 없어서 더럽지도 않고 깨끗하지도 않다. 에너지 보존법칙에 따르면 자연계 전체의 에너지 총량은 항상 일정하게 유지되기 때문에 '\n",
            " '에너지는 형태만 달리 할 뿐 여기에서 저기로 이동할 수 있을 뿐 새롭게 생성되거나 소멸될 수 없고 더 늘어나지도 줄어들지도 않는다. 즉 '\n",
            " '양자 에너지적 성질을 가지는 의식은 에너지 보존법칙에 영향을 받기 때문에 육체가 죽는다고 해도 절대로 소멸될 수 없다. 그렇게 절대로 '\n",
            " '소멸되지 않는 모든 의식 에너지들은 카르마의 원인인 감정 에너지를 끊임없이 주고받으면서 육체속에서의 생을 무한하게 이어나간다. 여기에서 '\n",
            " '두 가지 대전제가 발생합니다. 영혼은 소멸되지 않고 생은 끝없이 이어진다. 이 전제는 불교에서뿐만이 아니라 기독교에서도 받아들여지고 '\n",
            " '있습니다. 종교의 구분선이라는 껍데기가 아니라 본질적인 알맹이에만 집중해볼까요? 기독교에서는 영생이라는 개념을 인정하면서 영혼 불멸을 '\n",
            " '당연한 전제로 받아들이고 있습니다. 또 뿌린대로 거둔다. 모든 자를 사랑으로 보용하고 원수마저도 용서하라. 라고 하면서 카르마의 원리를 '\n",
            " '인정함과 동시에 카르마 해소에 해당하는 행위를 강조합니다. 참고로 초기 기독교 400년 동안에는 환생과 윤회 개념이 공식적으로 '\n",
            " '인정됐었습니다. 근데 종교와 정치 권력이 결탁되면서 환생, 윤회와 관련된 구절들이 보금서에서 흔적도 없이 삭제되기 시작했어요. 왜냐? '\n",
            " '기득권 입장에서는 윤회라는 개념이 전혀 도움되지 않았거든요. 너 스스로의 끼에 인적인 수행으로 윤회의 굴레에서 벗어나 영생이라는 구원을 '\n",
            " '받아라. 라고 말한다면 자신들이 누리고 있는 권력 기반이 위태로워질 게 뻔했거든요. 영혼 불멸과 카르마의 원리는 기독교 탄생 이전에 '\n",
            " '존재했던 고대 문명인들에게도 당연한 존재로 받아들여졌습니다. 고대 이집트인들에게 육체라는 것은 그저 영혼 불멸한 영혼이 잠깐 머무르는 '\n",
            " '장소였을 뿐입니다. 이들은 육체가 죽은 뒤에도 영혼으로서의 생은 계속되고 비록 영혼이 육체를 떠났을지라도 곧 다른 형태로 되돌아온다고 '\n",
            " '생각했습니다. 귀신, 임사체형, 육체 이탈 같은 초자연적인 현상들도 앞서 언급했던 양자의식이론으로 설명이 가능합니다. 귀신을 '\n",
            " '양자역학적으로 표현해볼까요? 죽음을 맞이한 육체에서 빠져나온 양자적 의식 에너지가 다른 육체 속에 들어가지 못하고 떠돌아다니고 있는 것이 '\n",
            " '바로 귀신인 거예요. 같은 논리로 임사체형과 육체 이탈 현상도 설명이 가능합니다. 두뇌 속 미세 소관이라는 부분에 있던 양자적 의식 '\n",
            " '에너지가 육체 밖으로 나갔다가 다시 들어간 겁니다. 마취제나 특정 종류의 마약을 투여한 사람이 임사체형과 비슷한 현상을 겪는 이유도 '\n",
            " '설명이 가능하게 됩니다. 영혼, 즉 의식 에너지는 그 자체로 차원을 초월하는 존재예요. 하지만 차원을 초월하는 의식 에너지가 3차원 '\n",
            " '육체에 기뜩이 된 순간부터 3차원적으로 제한된 사고를 하게 됩니다. 마취제나 특정 종류의 마약을 투여하면 육체의 힘이 빠지게 됩니다. '\n",
            " '그렇게 의식을 붙들고 있던 3차원적인 육체에 힘이 빠진 틈을 타서 차원을 초월하는 의식 에너지의 본래의 작용이 선명해지게 됩니다. 그래서 '\n",
            " '임사체형을 겪거나 특정 종류의 마약을 투여한 사람들이 모든 우주와 하나가 된 느낌, 그저 황홀하기만 한 느낌을 받게 되는 거예요. 왜냐? '\n",
            " '그 느낌들이 바로 어느 육체에도 어느 가르마에도 구속되지 않은 의식 에너지 그 자체의 상태에서 겪을 수 있는 느낌이거든요. 이렇게 육체의 '\n",
            " '힘이 빠지면 의식 에너지의 작용력이 강해진다는 걸 수천 년 전부터 이미 알고 있었던 사람들이 있습니다. 그들은 바로 전세계의 영성인들, '\n",
            " '수행인들입니다. 이 사람들은 단식, 소식, 명상, 요가, 깊은 호흡, 장시간 걷기 같은 짐 빠지는 운동 등을 수행법으로 삼았습니다. '\n",
            " '육체의 힘을 빼는 행위가 의식 에너지 본래의 힘을 선명하게 한다는 것을 직관적으로 알고 있었던 것이죠. 환생 역시도 양자의식이론으로 '\n",
            " '설명이 가능하게 됩니다. 육체의 죽음을 맞이한 양자적 의식 에너지가 그 육체를 나갔다가 감정의 작용 반작용 현상, 즉 카르마를 해소하기 '\n",
            " '위해서 다시 다른 육체에 들어갔다. 버지니아의학대학교 교수였던 이한 스티븐스는 공식적으로만 해도 수천여 건이 넘는 환생 사례를 '\n",
            " '조사했습니다. 그는 마치 범죄 수사를 하듯이 엄밀한 검증을 거친 끝에 다음과 같은 결론을 내놨습니다. 환생은 사상이나 신앙이 아니다. '\n",
            " '환생은 실제로 존재하는 현상이다. 전 세계에서 가장 유명한 전문학자 중 한 명인 칼 세이건이라는 과학자가 있습니다. 칼 세이건은 미신 '\n",
            " '같은 걸 도대체 왜 믿는지 모르겠다면서 대놓고 미신을 비판하는 채까지 썼던 과학자입니다. 그런데 그렇게 미신에 비판적이었던 칼 '\n",
            " '세이건조차도 환생에 대해서 만큼은 조심스럽게 긍정적인 의견을 밝혔습니다. 그는 자신해져서 악령이 출몰하는 세상에서 이렇게 말했습니다. '\n",
            " '때때로 어린아이들은 전생에 대해 자세한 사항을 보고하는데 그 진술들은 정확할 뿐만이 아니라 환생이라는 걸 겪지 않고서는 절대로 알 수 '\n",
            " '없는 정보들이었다. 환생은 여전히 의심스럽기는 하지만 실험적으로 지지받고 있다. 과학과 영성이 어떻게든 분리되어 있다는 개념은 두 영역 '\n",
            " '모두에 해를 끼칠 뿐이다. 그렇다면 왜 전생을 기억한 어린이들 대다수가 시간이 지나면서 소소히 기억을 잃어버릴까요? 그건 바로 뇌라는 '\n",
            " '장기의 3차원적 특성 때문입니다. 차원 초월적인 의식에너지는 모든 것을 기억합니다. 하지만 차원 초월적인 양자적 의식에너지가 3차원 '\n",
            " '육체에 담기게 된 순간부터 의식에너지의 본래적인 능력은 3차원적으로 제한되고 실시간으로 망각될 수 밖에 없습니다. 그럼 여기서 이런 '\n",
            " '의문이 들 수 있어요. 의식에너지가 그 자체로 완전하다고? 그럼 뇌사 상태일 때 의식이 사라지는 이유는 뭐냐? 의식에너지가 그 자체로 '\n",
            " '완전하다면 뇌가 죽어도 의식은 멀쩡해야 되는 거 아니야? 의식에너지, 즉 영혼 입장에서 한번 생각해볼까요? 내가 몸담고 살고 있는 것이 '\n",
            " '벅싹 멸망하기 일부 직전이라면 빨리 도망치고 빠져나오는 게 정상적인 반응일 겁니다. 그럼 뇌사 상태까지는 아니더라도 뇌의 특정 부분에 '\n",
            " '문제가 생기면 의식 행위에 문제가 생기는 것은 어떻게 설명할 수 있을까요? 간단합니다. 의식에너지를 담고 있는 뇌라는 필터 장치에 문제가 '\n",
            " '생겼으니까 당연히 그 망가진 필터를 통과해서 나오는 의식작용의 모양새도 망가진 것처럼 보일 수밖에 없어요. 의식 그 자체는 완전하고 '\n",
            " '영혼불멸한 에너지입니다. 그렇기 때문에 망가진 뇌에 담겨있던 의식에너지가 그 뇌를 빠져나가면 다시 원래의 완전한 상태로 돌아가게 됩니다. '\n",
            " '양자의식이론으로 무속신앙까지도 설명할 수 있어요. 참고로 무당은 우리나라에만 존재하는 개념이 아닙니다. 무당은 수천년 동안 전세계 여러 '\n",
            " '곳에 다양한 형태로 존재해 왔고 지금도 존재하고 있어요. 무당이 모시는 신이라는 존재는 그냥 육체 속에 들어가지 않고 육체 바깥에 '\n",
            " '존재하고 있는 의식에너지일 뿐입니다. 3차원 육체에 갇히지 않은 의식에너지는 시공간 차원의 구애를 받지 않기 때문에 과거 현재 미래를 '\n",
            " '동시에 내다볼 수 있게 됩니다. 대다수 사람들은 과거 현재의 미래를 순차적으로 분리해서 생각합니다. 하지만 이건 3차원적으로 제한된 '\n",
            " '사고에요. 3차원 육체에 구속되지 않은 차원 초월적인 의식에너지 입장에서는 과거 현재 미래가 동시에 겹쳐져서 존재하고 있는 것처럼 '\n",
            " '보입니다. 그렇게 무당의 육체 바깥에서 내담자의 과거 현재 미래를 동시에 내다본 의식에너지는 무당 몸에 들어가서 자신이 본 걸 그대로 '\n",
            " '말해줍니다. 이때가 바로 무당에게 신이 들린 상태인 거에요. 무당이 과거는 참 잘 보는데 미래는 잘 못 보는 이유는 간단합니다. 과거는 '\n",
            " '이미 선명하게 확정됐고 미래는 아직 불확정 상태로 남아있기 때문이에요. 엄청나게 다양한 가능성들이 불확정 상태로 겹쳐져서 존재하고 있기 '\n",
            " '때문에 미래를 정확하게 볼 수 있는 무당은 별로 없습니다. 만약에 어떤 무당이 미래를 맞췄다? 그럼 그 무당은 겹쳐져서 존재하는 미래의 '\n",
            " '수많은 가능성들 중에서 가장 선명하게 보인 가능성, 발생 가능성이 가장 높았던 가능성을 관측한 것이겠죠? 비슷한 논리로 예지몽 현상까지도 '\n",
            " '설명할 수 있게 됩니다. 수면 상태에서는 육체에 힘이 빠지게 돼요. 그럼 3차원 육체에 힘이 빠진 틈을 타서 차원 초월적인 의식에너지 '\n",
            " '본래의 작용이 선명해지게 됩니다. 육체가 수면 상태에 돌입한 동안 의식에너지는 시공간과 차원의 구애를 받지 않는 상태로 과거 현재 미래를 '\n",
            " '동시에 관측하게 됩니다. 예지몽이 맞아 떨어진 경우는 어떤 경우냐? 겹쳐져서 존재하는 미래의 수많은 가능성들 중에 발생 가능성이 가장 '\n",
            " '높아서 선명하게 보인 가능성을 꿈이라는 형태로 관측한 경우에요. 최첨단 현대 물리학계의 양자의식이론에 따르면 끌어당김과 자기개발, '\n",
            " '성공학까지도 설명할 수 있게 됩니다. 양자의식이론에 따르면 인간의 의식은 양자에너지적 성질을 가집니다. 그렇기 때문에 자연스럽게 '\n",
            " '양자에너지인 의식은 양자역학의 지배를 받게 됩니다. 양자역학에 따르면 관측자가 대상을 어떻게 관측하느냐에 따라서 그 대상의 상태가 '\n",
            " '즉각적으로 달라진다고 하죠. 여러분 나라는 존재를 제일 먼저 실시간으로 관측하는 존재는 누구죠? 바로 나 자신입니다. 나라는 존재가 '\n",
            " '스스로를 어떻게 관측하느냐에 따라서 나의 상태가 즉각적으로 달라집니다. 왜냐? 나라는 양자에너지적 의식은 양자역학의 지배를 받으니까 '\n",
            " '복잡한 증거나 과정 없이 본질을 단번에 꿰뚫는 직관력이야말로 최고지성입니다. 그리고 이 직관력이 매우 뛰어났던 최고지성인들 고대 '\n",
            " '철학자들과 성학자들은 영혼 불멸과 카르마에 의한 윤회현상을 직관적으로 알고 있었습니다. 영혼 불멸한 영혼은 육체라는 사슬에 묶여서 여러 '\n",
            " '차례의 생을 겪는다. 죽음이란 영혼과 육체가 분리되는 현상일 뿐이다. 영혼은 신성과 매우 가깝고 불멸적이고 변하지 않는 것이다. 존재의 '\n",
            " '영혼은 영혼하고 불멸하다. 영혼 불멸한 영혼이야말로 모든 생명의 원천이다. 영은 영 그 자체이다. 영혼은 바로 나 자신이다. 모든 '\n",
            " '생명체는 지금 생명에 있는 육체를 떠나면 다른 육체를 받게 된다. 그리하여 생은 끝없이 반복된다. 이처럼 전 세계 곳곳의 인류는 수천 년 '\n",
            " '전부터 영혼 불멸과 카르마에 의한 윤회의 원리를 직관적으로 알고 있었습니다. 현대 과학이 최첨단으로 발전할수록 헛소리 취급당했던 고대의 '\n",
            " '지혜들이 오히려 옳았다는 게 다시금 밝혀지고 있습니다. 핵심만 빠르게 요약 정리해보겠습니다. 최신 현대 물리학계의 양자의식이론에 따르면 '\n",
            " '영혼은 양자에너지적 성격을 가진 의식에너지다. 그렇기 때문에 양자적 의식에너지는 존재하는 모든 에너지에 예외 없이 적용되는 에너지 '\n",
            " '보존법칙에 지배를 받는다. 존재하는 모든 것은 텅 비어있는 원자로 구성되어 있고 원자는 텅 비어있기 때문에 고유한 성질을 가지고 있지 '\n",
            " '않아서 더럽지도 깨끗하지도 않으며 자연계의 에너지의 총량은 늘 일정하게 보존되기 때문에 에너지는 형태만 달리할 뿐 이곳에서 저곳으로 '\n",
            " '이동할 수 있을 뿐 더 생겨나지도 소멸되지도 않고 늘어나지도 줄어들지도 않는다. 절대로 소멸되지 않는 의식에너지들은 서로 감정에너지를 '\n",
            " '주고받으면서 감정의 작용반작용 즉 카르마를 끝없이 이어나간다. 그렇게 생은 무한하게 반복된다. 뇌라는 3차원적 장기에서 자원초월적인 '\n",
            " '의식이 뚝딱 만들어진다는 전통적인 관점으로는 수천년 동안 인류 사이에 실제로 존재해왔던 비과학적이고 초자연적인 현상들을 설명할 수가 '\n",
            " '없었다. 하지만 현대물리학계의 양자의식이론에 따르면 지금껏 존재해온 인류 사이의 모든 기이한 일들을 비로소 과학으로도 설명할 수 있게 '\n",
            " '된다. 양자의식이론의 관점으로 끌어당김과 자기개발, 성공학까지도 설명할 수 있다. 나라는 존재가 스스로를 어떻게 관측하느냐에 따라서 '\n",
            " '즉각적으로 나의 상태가 달라진다. 왜냐? 나라는 양자에너지적 의식은 양자욕학의 지배를 받으니까. 직관력이 매우 뛰어났던 철학자와 '\n",
            " '성각자들은 영혼의 불멸성과 카르마에 의한 윤회현상을 이미 알고 있었다. 아니 근데 영혼이 소멸되지 않고 카르마에 의해서 생이 끝없이 '\n",
            " '반복된다는 것을 아는게 도대체 끌어당김이랑 무슨 상관이냐? 무슨 상관이냐면요 끌어당김의 핵심인 현자타임, 초연한 내려놓음을 느끼는 데는 '\n",
            " '이만한 지식이 없거든요. 이 소중한 현타를 나만 느낄 수 없다. 그래가지고 아주 즐거운 마음으로 영상을 만들어봤습니다. 영혼의 불멸성과 '\n",
            " '카르마에 의해서 끝없이 반복되는 생의 무상함을 완전히 직면하면 자연스럽게 내려놓음이 발생하게 됩니다. 물질적이고 외부적인 것, 단기적인 '\n",
            " '것에 집착하는 게 진짜로 덧없다는 것을 알게 돼요. 근데 이런 내려놓음의 마음가짐이 굉장히 아이러니하게도 모든 것을 쉽게 끌어당기기 '\n",
            " '위해서 세팅되어야 할 필수적인 첫 단계입니다. 그렇게 내려놓음의 상태가 완성되면 그 다음으로는 뭘 해야 될까요? 바로 현존과 알아차림의 '\n",
            " '자세를 유지해야 합니다. 쉽게 말해서 지금 이 순간 현재에 집중하면서 나의 내면을 관찰해야 됩니다. 이게 도대체 무슨 소리냐? 영혼 '\n",
            " '불멸과 카르마에 의한 끝없는 윤회현상을 직시하고 나면 두 가지 선택지 앞에 놓이게 됩니다. 카르마, 즉 감정의 작용, 반작용 현상을 '\n",
            " '적극적으로 이용하면서 생을 이어나갈 것인가? 아니면 카르마의 원인인 감정을 해소하는 데에 집중함으로써 모든 굴레에서 벗어날 것인가? '\n",
            " '이용을 선택하든 해소를 선택하든 두 경우 모두 다 현존과 알아차림의 자세를 필수적으로 유지해야 합니다. 왜냐? 나의 현재 감정 상태를 '\n",
            " '알아차리지도 못한 상태에서 섣불리 감정을 이용하거나 해소하려고 하면 역품을 맞을 수도 있기 때문이에요. 그렇기 때문에 일단은 현재에 '\n",
            " '집중하면서 나의 내면 상태, 감정 상태를 알아차리는 게 첫 번째 단계입니다. 그래야지 감정을 이용하든가 해소하든가 할 수 있기 '\n",
            " '때문이에요. 이 세상을 구성하는 가장 기본적인 존재는 빛입니다. 빛에는 물결처럼 흐르는 파동성과 딱딱하게 고정된 입자성이라는 모순된 '\n",
            " '성질이 동시에 존재하고 있어요. 마찬가지로 이 세상에는 카르마에 의한 운명과 자유의지라는 모순된 원리가 동시에 긴밀하게 존재하고 '\n",
            " '있습니다. 운명만 존재하는 것도 아니고 자유의지만 존재하는 것도 아니 둘 다 동시에 존재하고 있습니다. 나의 자유의지가 흐릿해지면 운명의 '\n",
            " '물결이 선명해지게 되고 나의 자유의지가 선명해지면 운명의 물결이 흐릿해집니다. 그렇기 때문에 운명에 힘을 실어줄 것이냐 자유의지에 힘을 '\n",
            " '실어줄 것이냐는 또다시 나의 선택에 달려있습니다. 지금의 나는 이용과 해소 중에서 어느 쪽에 더 마음이 끌리고 있나요? 어느 쪽에 끌리든 '\n",
            " '간에 각자만의 행복을 찾아갑시다. 결국 행복한 게 장땡이잖아요. 이상 진짜 쏠쏠한 미스터리 지솔미였습니다. 감사합니다.')\n"
          ]
        }
      ],
      "source": [
        "from pprint import pprint\n",
        "\"\"\"\n",
        "OpenAI 의 Whisper 모델로 STT 결과를 텍스트 파일로 저장한 후, 이를 읽어서 사용\n",
        "\"\"\"\n",
        "with open('./진쏠미_transcript.txt', 'r') as f:\n",
        "    transcript = f.read()\n",
        "# transcript = transcript.replace('. ', '. \\n')\n",
        "pprint(transcript)"
      ]
    },
    {
      "cell_type": "code",
      "execution_count": 10,
      "metadata": {},
      "outputs": [
        {
          "name": "stdout",
          "output_type": "stream",
          "text": [
            "8020\n"
          ]
        }
      ],
      "source": [
        "# 특정 llm 으로 토크나이징\n",
        "import tiktoken\n",
        "enc = tiktoken.encoding_for_model(\"gpt-3.5-turbo\")\n",
        "# encode the text using the GPT-3.5-Turbo encoder\n",
        "tokenized_text = enc.encode(transcript)\n",
        "\n",
        "# calculate the number of tokens in the encoded text\n",
        "print(len(tokenized_text)) # 한글은 8천 토큰이고\n",
        "print(len(raw_text)) # 영어는 29만 토큰"
      ]
    },
    {
      "cell_type": "code",
      "execution_count": 10,
      "metadata": {
        "colab": {
          "base_uri": "https://localhost:8080/",
          "height": 122
        },
        "id": "sdBRVPJpuUVk",
        "outputId": "58ed0d3d-7bf5-422e-cf03-61297bcad967"
      },
      "outputs": [
        {
          "name": "stdout",
          "output_type": "stream",
          "text": [
            "(\" Hermann Hesse's Demian follows the journey of a young man as he searches \"\n",
            " 'for his purpose in life and learns to accept himself. Along the way, he '\n",
            " 'meets Max Demian, who helps him interpret religious stories in a more '\n",
            " 'personal way, and Alfons Beck, who encourages him to express his thoughts '\n",
            " 'through poetry. He discovers his destiny is to find his own path and live it '\n",
            " 'out wholly and resolutely within himself. He reunites with Demian and Frau '\n",
            " 'Eva, who encourages him to find his dream and remain faithful to it. During '\n",
            " 'the war, Sinclair experiences a strange feeling and is eventually reunited '\n",
            " \"with Demian, who has the 'sign' on his forehead.\")\n"
          ]
        }
      ],
      "source": [
        "# 헤르만 헤세 요약결과\n",
        "pprint(summarize_document_chain.run(raw_text))"
      ]
    },
    {
      "cell_type": "code",
      "execution_count": 15,
      "metadata": {},
      "outputs": [
        {
          "name": "stdout",
          "output_type": "stream",
          "text": [
            "('The article discusses the concept of quantum consciousness, which suggests '\n",
            " 'that human consciousness is made up of quantum energy and may have an '\n",
            " 'eternal soul that cannot be destroyed. The principles of karma and '\n",
            " 'reincarnation have been accepted by ancient civilizations and can be '\n",
            " 'explained using quantum mechanics. Consciousness energy is limited and can '\n",
            " 'be forgotten in real-time. The brain acts as a filter, and problems with '\n",
            " 'certain parts of the brain may lead to problems with consciousness. Letting '\n",
            " 'go of material possessions and external desires is crucial for spiritual '\n",
            " 'growth, and our choices determine which principle of fate and free will we '\n",
            " 'empower. Ultimately, our goal is to find our own happiness.')\n"
          ]
        }
      ],
      "source": [
        "# https://python.langchain.com/en/latest/reference/modules/text_splitter.html\n",
        "##############################################################################\n",
        "# 해결 : langchain의 text_splitter 를 활용해서 토큰 기반으로 문장을 나누고 -> \n",
        "# langchain.schema의 Document를 활용하여 나뉜 문장에 page_content특성을 부여 후 \n",
        "# chat_models 의 ChatOpenAI 를 활용하여 요약을 진행하면 된다.\n",
        "##############################################################################\n",
        "from langchain import text_splitter\n",
        "# from langchain.docstore.document import Document\n",
        "from langchain.schema import Document\n",
        "from langchain.chat_models import ChatOpenAI\n",
        "from pprint import pprint\n",
        "'''\n",
        "# Error handling\n",
        "ValueError: OpenAIChat currently only supports single prompt, got [ \n",
        "openAIchat 말고 ChatOpenAI 로 바꿔야 됨\n",
        "'''\n",
        "paragraphs = text_splitter.TokenTextSplitter().split_text(transcript)\n",
        "# pprint(paragraphs)\n",
        "docs = [Document(page_content=t) for t in paragraphs]\n",
        "# pprint(docs)     \n",
        "\n",
        "llmc = ChatOpenAI(temperature=0.9, model_name=\"gpt-3.5-turbo\")\n",
        "summary_chain_cgpt35 = load_summarize_chain(llmc, chain_type=\"map_reduce\") # map_reduce 는, 요약은 하는데 결과가 영어로 나옴\n",
        "# summary_chain_cgpt35 = load_summarize_chain(llmc, chain_type=\"refine\") # refine 은, 결과가 안나옴 뭔가 디폴트 프롬프트가 다른것 같음\n",
        "\n",
        "pprint(summary_chain_cgpt35.run(docs)) # 결과가 영어로 나와서 프롬프트 템플릿을 통해 한글로 나오게 해보자\n",
        "# 8020 토큰에 51초 걸림\n",
        "\n",
        "# summarize_document_chain_cgpt35 = AnalyzeDocumentChain(combine_docs_chain=summary_chain_cgpt35)\n",
        "\n",
        "# # AnalyzeDocumentChain은 \n",
        "# # TypeError: object of type 'Document' has no len()\n",
        "# # 에러가 발생함\n",
        "\n",
        "# summarize_document_chain_cgpt35 = AnalyzeDocumentChain(combine_docs_chain=summary_chain_cgpt35)\n",
        "# pprint(summarize_document_chain_cgpt35.run(docs))"
      ]
    },
    {
      "cell_type": "code",
      "execution_count": 20,
      "metadata": {},
      "outputs": [],
      "source": [
        "# refine\n",
        "# https://python.langchain.com/en/latest/reference/modules/text_splitter.html\n",
        "\n",
        "from langchain import text_splitter\n",
        "from langchain.docstore.document import Document\n",
        "from langchain import PromptTemplate                 \n",
        "\n",
        "# bullet_point_prompt_template = \"\"\"Write notes about the following transcription. Use bullet points in complete sentences. \n",
        "# Use * (asterisk followed by a space) for the point. Include all details such as titles, citations, dates and so on.\n",
        "# Any text that resembles Roko should be spelled Roko. Some common misspellings include Rocko and Rocco. Please make\n",
        "# sure to spell it correctly.\n",
        "bullet_point_prompt_template = \"\"\"Do summarization for given transcription. provide language in Korean.\n",
        "\n",
        "{text}\n",
        "\n",
        "NOTES:\n",
        "\"\"\"\n",
        "\n",
        "bullet_point_prompt = PromptTemplate(template=bullet_point_prompt_template, input_variables=[\"text\"])\n",
        "paragraphs = text_splitter.TokenTextSplitter().split_text(transcript)\n",
        "docs = [Document(page_content=t) for t in paragraphs]\n",
        "\n",
        "llmc = ChatOpenAI(temperature=0.9, model_name=\"gpt-3.5-turbo\")\n",
        "chain = load_summarize_chain(llmc, chain_type=\"refine\", return_intermediate_steps=True, refine_prompt=bullet_point_prompt)\n",
        "\n",
        "res = chain({\"input_documents\": docs}, return_only_outputs=True)"
      ]
    },
    {
      "cell_type": "code",
      "execution_count": 2,
      "metadata": {},
      "outputs": [
        {
          "ename": "TypeError",
          "evalue": "Can't instantiate abstract class TextSplitter with abstract method split_text",
          "output_type": "error",
          "traceback": [
            "\u001b[0;31m---------------------------------------------------------------------------\u001b[0m",
            "\u001b[0;31mTypeError\u001b[0m                                 Traceback (most recent call last)",
            "\u001b[1;32m/Users/jaden/Documents/code_collec/vanilla_chain_chatgpt/Langchain_experiment.ipynb 셀 15\u001b[0m in \u001b[0;36m<cell line: 2>\u001b[0;34m()\u001b[0m\n\u001b[1;32m      <a href='vscode-notebook-cell:/Users/jaden/Documents/code_collec/vanilla_chain_chatgpt/Langchain_experiment.ipynb#X54sZmlsZQ%3D%3D?line=0'>1</a>\u001b[0m \u001b[39mfrom\u001b[39;00m \u001b[39mlangchain\u001b[39;00m \u001b[39mimport\u001b[39;00m text_splitter\n\u001b[0;32m----> <a href='vscode-notebook-cell:/Users/jaden/Documents/code_collec/vanilla_chain_chatgpt/Langchain_experiment.ipynb#X54sZmlsZQ%3D%3D?line=1'>2</a>\u001b[0m doc_paragraphs \u001b[39m=\u001b[39m text_splitter\u001b[39m.\u001b[39;49mTextSplitter()\u001b[39m.\u001b[39mcreate_documents([transcript])\n\u001b[1;32m      <a href='vscode-notebook-cell:/Users/jaden/Documents/code_collec/vanilla_chain_chatgpt/Langchain_experiment.ipynb#X54sZmlsZQ%3D%3D?line=2'>3</a>\u001b[0m doc_paragraphs\n",
            "\u001b[0;31mTypeError\u001b[0m: Can't instantiate abstract class TextSplitter with abstract method split_text"
          ]
        }
      ],
      "source": [
        "from langchain import text_splitter\n",
        "doc_paragraphs = text_splitter.TextSplitter().create_documents([transcript])\n",
        "doc_paragraphs"
      ]
    },
    {
      "cell_type": "code",
      "execution_count": 26,
      "metadata": {},
      "outputs": [
        {
          "data": {
            "text/plain": [
              "[Document(page_content='여기 두 존재가 있습니다. 하나는 인공지능이고요. 하나는 인간입니다. 겉으로 보기에는 완전히 똑같은 두 존재의 정체성을 가르는 것은 단 한 가지입니다. 그것은 바로 생각하고 감정을 느낄 수 있는 힘. 의식입니다. 우리는 이 의식이라는 게 그냥 뇌라는 장기에서 뚝딱 만들어진 무산물이라고 배워왔습니다. 하지만 최첨단 현대 물리학계에서 기존의 독념을 완전히 뒤집어버리는 관념이 제기되고 있습니다. 현재 생존해 있는 과학자들 중에서 가장 위대한 물리학자로 칭송받고 있는 과학자 2020년 노벨 물리학상을 수상한 로저 펜 로즈는 이렇게 말했습니다. 인간의 의식은 뇌라는 기계장치 따위에서는 만들어질 수 없는 그 무언가이다. 만약 어떤 사람이 일시적으로 사망하게 되면 그 사람의 두뇌 속 미세소관이라는 부분에 있던 양자 정보가 우주로 흘러들어가게 된다. 그러나 죽음 근처까지 갔던 사람이 다시 살아난다면 두뇌에서 유출된 양자 정보가 다시 두뇌 속으로 돌아가게 된다. 이때가 바로 임사체험을 하게 되는 경우다. 만약 그가 되살아나지 않고 완전히 죽게 되더라도 그의 두뇌 속에 있던 양자 정보는 영혼으로써 육체 바깥에서 영원히 존재할 수 있다. 왜냐? 양자 정보는 절대로 파괴될 수 없기 때문이다. 이게 도대체 무슨 말인지 아리가리 하신 분들을 위해서 양자 의식 이론의 핵심만 간단하게 요약해보겠습니다. 인간의 의식은 양자 물질로 구성되어 있기 때문에 양자 에너지적 성질을 가진다. 의식은 양자 에너지의 형태로 두뇌 속에 미세소관이라는 부분에 담겨 있다가 육체가 죽는 순간 몸 밖으로 빠져나간다. 그렇게 육체 바깥으로 빠져나간 의식 에너지는 인간의 육체를 떠나서도 영원히 존재할 수 있다. 아니 그러니까 인류가 오래전부터 영혼이라고 불러봤던 것이 비로소 현대 물리학인 양자 역학으로도 설명이 가능하게 된 거예요. 자 의식이 양자적 성질을 가지는 에너지라면 이 의식 에너지는 존재하는 모든 에너지에 예외 없이 적용되는 에너지 보존법칙에 영향을 받게 됩니다. 이 에너지 보존법칙에 대한 설명을 부처 성인과 함께 진행해보도록 하겠습니다. 존재하는 모든 것은 텅 비어있는 원자로 구성되어 있다. 원자는 텅 비어있기 때문에 고유한 성질이 없어서 더럽지도 않고 깨끗하지도 않다. 에너지 보존법칙에 따르면 자연계 전체의 에너지 총량은 항상 일정하게 유지되기 때문에 에너지는 형태만 달리 할 뿐 여기에서 저기로 이동할 수 있을 뿐 새롭게 생성되거나 소멸될 수 없고 더 늘어나지도 줄어들지도 않는다. 즉 양자 에너지적 성질을 가지는 의식은 에너지 보존법칙에 영향을 받기 때문에 육체가 죽는다고 해도 절대로 소멸될 수 없다. 그렇게 절대로 소멸되지 않는 모든 의식 에너지들은 카르마의 원인인 감정 에너지를 끊임없이 주고받으면서 육체속에서의 생을 무한하게 이어나간다. 여기에서 두 가지 대전제가 발생합니다. 영혼은 소멸되지 않고 생은 끝없이 이어진다. 이 전제는 불교에서뿐만이 아니라 기독교에서도 받아들여지고 있습니다. 종교의 구분선이라는 껍데기가 아니라 본질적인 알맹이에만 집중해볼까요? 기독교에서는 영생이라는 개념을 인정하면서 영혼 불멸을 당연한 전제로 받아들이고 있습니다. 또 뿌린대로 거둔다. 모든 자를 사랑으로 보용하고 원수마저도 용서하라. 라고 하면서 카르마의 원리를 인정함과 동시에 카르마 해소에 해당하는 행위를 강조합니다. 참고로 초기 기독교 400년 동안에는 환생과 윤회 개념이 공식적으로 인정됐었습니다. 근데 종교와 정치 권력이 결탁되면서 환생, 윤회와 관련된 구절들이 보금서에서 흔적도 없이 삭제되기 시작했어요. 왜냐? 기득권 입장에서는 윤회라는 개념이 전혀 도움되지 않았거든요. 너 스스로의 끼에 인적인 수행으로 윤회의 굴레에서 벗어나 영생이라는 구원을 받아라. 라고 말한다면 자신들이 누리고 있는 권력 ', metadata={}),\n",
              " Document(page_content='�는 개념이 전혀 도움되지 않았거든요. 너 스스로의 끼에 인적인 수행으로 윤회의 굴레에서 벗어나 영생이라는 구원을 받아라. 라고 말한다면 자신들이 누리고 있는 권력 기반이 위태로워질 게 뻔했거든요. 영혼 불멸과 카르마의 원리는 기독교 탄생 이전에 존재했던 고대 문명인들에게도 당연한 존재로 받아들여졌습니다. 고대 이집트인들에게 육체라는 것은 그저 영혼 불멸한 영혼이 잠깐 머무르는 장소였을 뿐입니다. 이들은 육체가 죽은 뒤에도 영혼으로서의 생은 계속되고 비록 영혼이 육체를 떠났을지라도 곧 다른 형태로 되돌아온다고 생각했습니다. 귀신, 임사체형, 육체 이탈 같은 초자연적인 현상들도 앞서 언급했던 양자의식이론으로 설명이 가능합니다. 귀신을 양자역학적으로 표현해볼까요? 죽음을 맞이한 육체에서 빠져나온 양자적 의식 에너지가 다른 육체 속에 들어가지 못하고 떠돌아다니고 있는 것이 바로 귀신인 거예요. 같은 논리로 임사체형과 육체 이탈 현상도 설명이 가능합니다. 두뇌 속 미세 소관이라는 부분에 있던 양자적 의식 에너지가 육체 밖으로 나갔다가 다시 들어간 겁니다. 마취제나 특정 종류의 마약을 투여한 사람이 임사체형과 비슷한 현상을 겪는 이유도 설명이 가능하게 됩니다. 영혼, 즉 의식 에너지는 그 자체로 차원을 초월하는 존재예요. 하지만 차원을 초월하는 의식 에너지가 3차원 육체에 기뜩이 된 순간부터 3차원적으로 제한된 사고를 하게 됩니다. 마취제나 특정 종류의 마약을 투여하면 육체의 힘이 빠지게 됩니다. 그렇게 의식을 붙들고 있던 3차원적인 육체에 힘이 빠진 틈을 타서 차원을 초월하는 의식 에너지의 본래의 작용이 선명해지게 됩니다. 그래서 임사체형을 겪거나 특정 종류의 마약을 투여한 사람들이 모든 우주와 하나가 된 느낌, 그저 황홀하기만 한 느낌을 받게 되는 거예요. 왜냐? 그 느낌들이 바로 어느 육체에도 어느 가르마에도 구속되지 않은 의식 에너지 그 자체의 상태에서 겪을 수 있는 느낌이거든요. 이렇게 육체의 힘이 빠지면 의식 에너지의 작용력이 강해진다는 걸 수천 년 전부터 이미 알고 있었던 사람들이 있습니다. 그들은 바로 전세계의 영성인들, 수행인들입니다. 이 사람들은 단식, 소식, 명상, 요가, 깊은 호흡, 장시간 걷기 같은 짐 빠지는 운동 등을 수행법으로 삼았습니다. 육체의 힘을 빼는 행위가 의식 에너지 본래의 힘을 선명하게 한다는 것을 직관적으로 알고 있었던 것이죠. 환생 역시도 양자의식이론으로 설명이 가능하게 됩니다. 육체의 죽음을 맞이한 양자적 의식 에너지가 그 육체를 나갔다가 감정의 작용 반작용 현상, 즉 카르마를 해소하기 위해서 다시 다른 육체에 들어갔다. 버지니아의학대학교 교수였던 이한 스티븐스는 공식적으로만 해도 수천여 건이 넘는 환생 사례를 조사했습니다. 그는 마치 범죄 수사를 하듯이 엄밀한 검증을 거친 끝에 다음과 같은 결론을 내놨습니다. 환생은 사상이나 신앙이 아니다. 환생은 실제로 존재하는 현상이다. 전 세계에서 가장 유명한 전문학자 중 한 명인 칼 세이건이라는 과학자가 있습니다. 칼 세이건은 미신 같은 걸 도대체 왜 믿는지 모르겠다면서 대놓고 미신을 비판하는 채까지 썼던 과학자입니다. 그런데 그렇게 미신에 비판적이었던 칼 세이건조차도 환생에 대해서 만큼은 조심스럽게 긍정적인 의견을 밝혔습니다. 그는 자신해져서 악령이 출몰하는 세상에서 이렇게 말했습니다. 때때로 어린아이들은 전생에 대해 자세한 사항을 보고하는데 그 진술들은 정확할 뿐만이 아니라 환생이라는 걸 겪지 않고서는 절대로 알 수 없는 정보들이었다. 환생은 여전히 의심스럽기는 하지만 실험적으로 지지받고 있다. 과학과 영성이 어떻게든 분리되어 있다는 개념은 두 영역 모두에 해를 끼칠 뿐이다. 그렇다면 왜 전생을 기억한 어린이들 대다수가 시간이 지나면서 소소히 기억을 잃어버릴까요? 그건 바로 뇌라는 장기의 3�', metadata={}),\n",
              " Document(page_content='�� 있다는 개념은 두 영역 모두에 해를 끼칠 뿐이다. 그렇다면 왜 전생을 기억한 어린이들 대다수가 시간이 지나면서 소소히 기억을 잃어버릴까요? 그건 바로 뇌라는 장기의 3차원적 특성 때문입니다. 차원 초월적인 의식에너지는 모든 것을 기억합니다. 하지만 차원 초월적인 양자적 의식에너지가 3차원 육체에 담기게 된 순간부터 의식에너지의 본래적인 능력은 3차원적으로 제한되고 실시간으로 망각될 수 밖에 없습니다. 그럼 여기서 이런 의문이 들 수 있어요. 의식에너지가 그 자체로 완전하다고? 그럼 뇌사 상태일 때 의식이 사라지는 이유는 뭐냐? 의식에너지가 그 자체로 완전하다면 뇌가 죽어도 의식은 멀쩡해야 되는 거 아니야? 의식에너지, 즉 영혼 입장에서 한번 생각해볼까요? 내가 몸담고 살고 있는 것이 벅싹 멸망하기 일부 직전이라면 빨리 도망치고 빠져나오는 게 정상적인 반응일 겁니다. 그럼 뇌사 상태까지는 아니더라도 뇌의 특정 부분에 문제가 생기면 의식 행위에 문제가 생기는 것은 어떻게 설명할 수 있을까요? 간단합니다. 의식에너지를 담고 있는 뇌라는 필터 장치에 문제가 생겼으니까 당연히 그 망가진 필터를 통과해서 나오는 의식작용의 모양새도 망가진 것처럼 보일 수밖에 없어요. 의식 그 자체는 완전하고 영혼불멸한 에너지입니다. 그렇기 때문에 망가진 뇌에 담겨있던 의식에너지가 그 뇌를 빠져나가면 다시 원래의 완전한 상태로 돌아가게 됩니다. 양자의식이론으로 무속신앙까지도 설명할 수 있어요. 참고로 무당은 우리나라에만 존재하는 개념이 아닙니다. 무당은 수천년 동안 전세계 여러 곳에 다양한 형태로 존재해 왔고 지금도 존재하고 있어요. 무당이 모시는 신이라는 존재는 그냥 육체 속에 들어가지 않고 육체 바깥에 존재하고 있는 의식에너지일 뿐입니다. 3차원 육체에 갇히지 않은 의식에너지는 시공간 차원의 구애를 받지 않기 때문에 과거 현재 미래를 동시에 내다볼 수 있게 됩니다. 대다수 사람들은 과거 현재의 미래를 순차적으로 분리해서 생각합니다. 하지만 이건 3차원적으로 제한된 사고에요. 3차원 육체에 구속되지 않은 차원 초월적인 의식에너지 입장에서는 과거 현재 미래가 동시에 겹쳐져서 존재하고 있는 것처럼 보입니다. 그렇게 무당의 육체 바깥에서 내담자의 과거 현재 미래를 동시에 내다본 의식에너지는 무당 몸에 들어가서 자신이 본 걸 그대로 말해줍니다. 이때가 바로 무당에게 신이 들린 상태인 거에요. 무당이 과거는 참 잘 보는데 미래는 잘 못 보는 이유는 간단합니다. 과거는 이미 선명하게 확정됐고 미래는 아직 불확정 상태로 남아있기 때문이에요. 엄청나게 다양한 가능성들이 불확정 상태로 겹쳐져서 존재하고 있기 때문에 미래를 정확하게 볼 수 있는 무당은 별로 없습니다. 만약에 어떤 무당이 미래를 맞췄다? 그럼 그 무당은 겹쳐져서 존재하는 미래의 수많은 가능성들 중에서 가장 선명하게 보인 가능성, 발생 가능성이 가장 높았던 가능성을 관측한 것이겠죠? 비슷한 논리로 예지몽 현상까지도 설명할 수 있게 됩니다. 수면 상태에서는 육체에 힘이 빠지게 돼요. 그럼 3차원 육체에 힘이 빠진 틈을 타서 차원 초월적인 의식에너지 본래의 작용이 선명해지게 됩니다. 육체가 수면 상태에 돌입한 동안 의식에너지는 시공간과 차원의 구애를 받지 않는 상태로 과거 현재 미래를 동시에 관측하게 됩니다. 예지몽이 맞아 떨어진 경우는 어떤 경우냐? 겹쳐져서 존재하는 미래의 수많은 가능성들 중에 발생 가능성이 가장 높아서 선명하게 보인 가능성을 꿈이라는 형태로 관측한 경우에요. 최첨단 현대 물리학계의 양자의식이론에 따르면 끌어당김과 자기개발, 성공학까지도 설명할 수 있게 됩니다. 양자의식이론에 따르면 인간의 의식은 양자에너지적 성질을 가집니다. 그렇기 때문에 자연스럽게 양자에너지인 의식은 양자역학의 지배를 받게 됩니다. 양자역', metadata={}),\n",
              " Document(page_content=' 있게 됩니다. 양자의식이론에 따르면 인간의 의식은 양자에너지적 성질을 가집니다. 그렇기 때문에 자연스럽게 양자에너지인 의식은 양자역학의 지배를 받게 됩니다. 양자역학에 따르면 관측자가 대상을 어떻게 관측하느냐에 따라서 그 대상의 상태가 즉각적으로 달라진다고 하죠. 여러분 나라는 존재를 제일 먼저 실시간으로 관측하는 존재는 누구죠? 바로 나 자신입니다. 나라는 존재가 스스로를 어떻게 관측하느냐에 따라서 나의 상태가 즉각적으로 달라집니다. 왜냐? 나라는 양자에너지적 의식은 양자역학의 지배를 받으니까 복잡한 증거나 과정 없이 본질을 단번에 꿰뚫는 직관력이야말로 최고지성입니다. 그리고 이 직관력이 매우 뛰어났던 최고지성인들 고대 철학자들과 성학자들은 영혼 불멸과 카르마에 의한 윤회현상을 직관적으로 알고 있었습니다. 영혼 불멸한 영혼은 육체라는 사슬에 묶여서 여러 차례의 생을 겪는다. 죽음이란 영혼과 육체가 분리되는 현상일 뿐이다. 영혼은 신성과 매우 가깝고 불멸적이고 변하지 않는 것이다. 존재의 영혼은 영혼하고 불멸하다. 영혼 불멸한 영혼이야말로 모든 생명의 원천이다. 영은 영 그 자체이다. 영혼은 바로 나 자신이다. 모든 생명체는 지금 생명에 있는 육체를 떠나면 다른 육체를 받게 된다. 그리하여 생은 끝없이 반복된다. 이처럼 전 세계 곳곳의 인류는 수천 년 전부터 영혼 불멸과 카르마에 의한 윤회의 원리를 직관적으로 알고 있었습니다. 현대 과학이 최첨단으로 발전할수록 헛소리 취급당했던 고대의 지혜들이 오히려 옳았다는 게 다시금 밝혀지고 있습니다. 핵심만 빠르게 요약 정리해보겠습니다. 최신 현대 물리학계의 양자의식이론에 따르면 영혼은 양자에너지적 성격을 가진 의식에너지다. 그렇기 때문에 양자적 의식에너지는 존재하는 모든 에너지에 예외 없이 적용되는 에너지 보존법칙에 지배를 받는다. 존재하는 모든 것은 텅 비어있는 원자로 구성되어 있고 원자는 텅 비어있기 때문에 고유한 성질을 가지고 있지 않아서 더럽지도 깨끗하지도 않으며 자연계의 에너지의 총량은 늘 일정하게 보존되기 때문에 에너지는 형태만 달리할 뿐 이곳에서 저곳으로 이동할 수 있을 뿐 더 생겨나지도 소멸되지도 않고 늘어나지도 줄어들지도 않는다. 절대로 소멸되지 않는 의식에너지들은 서로 감정에너지를 주고받으면서 감정의 작용반작용 즉 카르마를 끝없이 이어나간다. 그렇게 생은 무한하게 반복된다. 뇌라는 3차원적 장기에서 자원초월적인 의식이 뚝딱 만들어진다는 전통적인 관점으로는 수천년 동안 인류 사이에 실제로 존재해왔던 비과학적이고 초자연적인 현상들을 설명할 수가 없었다. 하지만 현대물리학계의 양자의식이론에 따르면 지금껏 존재해온 인류 사이의 모든 기이한 일들을 비로소 과학으로도 설명할 수 있게 된다. 양자의식이론의 관점으로 끌어당김과 자기개발, 성공학까지도 설명할 수 있다. 나라는 존재가 스스로를 어떻게 관측하느냐에 따라서 즉각적으로 나의 상태가 달라진다. 왜냐? 나라는 양자에너지적 의식은 양자욕학의 지배를 받으니까. 직관력이 매우 뛰어났던 철학자와 성각자들은 영혼의 불멸성과 카르마에 의한 윤회현상을 이미 알고 있었다. 아니 근데 영혼이 소멸되지 않고 카르마에 의해서 생이 끝없이 반복된다는 것을 아는게 도대체 끌어당김이랑 무슨 상관이냐? 무슨 상관이냐면요 끌어당김의 핵심인 현자타임, 초연한 내려놓음을 느끼는 데는 이만한 지식이 없거든요. 이 소중한 현타를 나만 느낄 수 없다. 그래가지고 아주 즐거운 마음으로 영상을 만들어봤습니다. 영혼의 불멸성과 카르마에 의해서 끝없이 반복되는 생의 무상함을 완전히 직면하면 자연스럽게 내려놓음이 발생하게 됩니다. 물질적이고 외부적인 것, 단기적인 것에 집착하는 게 진짜로 덧없다는 것을 알게 돼요. 근데 이런 내려놓음의 마음가짐이 굉장히 아이러니하게도 모든', metadata={}),\n",
              " Document(page_content='놓음이 발생하게 됩니다. 물질적이고 외부적인 것, 단기적인 것에 집착하는 게 진짜로 덧없다는 것을 알게 돼요. 근데 이런 내려놓음의 마음가짐이 굉장히 아이러니하게도 모든 것을 쉽게 끌어당기기 위해서 세팅되어야 할 필수적인 첫 단계입니다. 그렇게 내려놓음의 상태가 완성되면 그 다음으로는 뭘 해야 될까요? 바로 현존과 알아차림의 자세를 유지해야 합니다. 쉽게 말해서 지금 이 순간 현재에 집중하면서 나의 내면을 관찰해야 됩니다. 이게 도대체 무슨 소리냐? 영혼 불멸과 카르마에 의한 끝없는 윤회현상을 직시하고 나면 두 가지 선택지 앞에 놓이게 됩니다. 카르마, 즉 감정의 작용, 반작용 현상을 적극적으로 이용하면서 생을 이어나갈 것인가? 아니면 카르마의 원인인 감정을 해소하는 데에 집중함으로써 모든 굴레에서 벗어날 것인가? 이용을 선택하든 해소를 선택하든 두 경우 모두 다 현존과 알아차림의 자세를 필수적으로 유지해야 합니다. 왜냐? 나의 현재 감정 상태를 알아차리지도 못한 상태에서 섣불리 감정을 이용하거나 해소하려고 하면 역품을 맞을 수도 있기 때문이에요. 그렇기 때문에 일단은 현재에 집중하면서 나의 내면 상태, 감정 상태를 알아차리는 게 첫 번째 단계입니다. 그래야지 감정을 이용하든가 해소하든가 할 수 있기 때문이에요. 이 세상을 구성하는 가장 기본적인 존재는 빛입니다. 빛에는 물결처럼 흐르는 파동성과 딱딱하게 고정된 입자성이라는 모순된 성질이 동시에 존재하고 있어요. 마찬가지로 이 세상에는 카르마에 의한 운명과 자유의지라는 모순된 원리가 동시에 긴밀하게 존재하고 있습니다. 운명만 존재하는 것도 아니고 자유의지만 존재하는 것도 아니 둘 다 동시에 존재하고 있습니다. 나의 자유의지가 흐릿해지면 운명의 물결이 선명해지게 되고 나의 자유의지가 선명해지면 운명의 물결이 흐릿해집니다. 그렇기 때문에 운명에 힘을 실어줄 것이냐 자유의지에 힘을 실어줄 것이냐는 또다시 나의 선택에 달려있습니다. 지금의 나는 이용과 해소 중에서 어느 쪽에 더 마음이 끌리고 있나요? 어느 쪽에 끌리든 간에 각자만의 행복을 찾아갑시다. 결국 행복한 게 장땡이잖아요. 이상 진짜 쏠쏠한 미스터리 지솔미였습니다. 감사합니다.', metadata={})]"
            ]
          },
          "execution_count": 26,
          "metadata": {},
          "output_type": "execute_result"
        }
      ],
      "source": [
        "docs"
      ]
    },
    {
      "cell_type": "code",
      "execution_count": 23,
      "metadata": {},
      "outputs": [
        {
          "data": {
            "text/plain": [
              "{'intermediate_steps': ['The concept of quantum consciousness posits that consciousness is not just a product of the brain, but a form of quantum energy that can exist outside of the physical body. According to the law of energy conservation, this energy cannot be destroyed and will continue to exist even after death. This concept is not only accepted in Buddhism, but also in Christianity, where the idea of immortality of the soul is recognized. The principle of karma is also emphasized in both religions as a way to release negative energy and achieve spiritual salvation. However, the concept of reincarnation was removed from Christian teachings due to political and cultural reasons.',\n",
              "  '양자의식이론을 통해 귀신, 임사체형, 육체 이탈 등 초자연적인 현상이 설명 가능하다. 의식 에너지는 차원을 초월하는 존재이지만, 육체에 기뜩이면 3차원적으로 제한된 사고를 하게 된다. 따라서, 육체의 힘을 빼는 수행을 하면 의식 에너지의 작용력이 강해진다는 것을 수천 년 전부터 이미 알고 있었던 수행인들이 있었다. 환생 역시 양자의식이론으로 설명 가능하며, 환생 사례가 많이 조사되고 있다. 과학과 영성은 분리되어 있어서는 안 된다. 어린이들이 전생을 기억한 것은 뇌의 기능과 관련되어 있기 때문에 시간이 지나면서 잊혀진다.',\n",
              "  '3-dimensional nature of the brain limits the ability of consciousness energy to fully remember past lives. However, consciousness energy itself is immortal and unbound by space and time. The concept of Yangjae also applies to consciousness energy. The filter of the brain only limits the ability to access consciousness energy, but it still exists outside of the body. Shamans can access past, present, and future events simultaneously because they are not limited by the 3-dimensional constraints of the body. Dreams can also be explained by consciousness energy accessing various possibilities in the future. Quantum consciousness theory can also explain attraction, self-development, and success. Human consciousness has quantum energy properties and is subject to quantum mechanics.',\n",
              "  '양자의식이론에 따르면 인간의 의식은 양자에너지적 성질을 가지고 있으며, 이를 통해 양자역학의 지배를 받게 됩니다. 이것은 관측자가 대상을 어떻게 관측하느냐에 따라서 그 대상의 상태가 달라질 수 있다는 것을 의미합니다. 그리고 이러한 양자에너지적 의식은 영혼의 불멸성과 카르마에 의한 윤회현상을 직관적으로 이해할 수 있게 해줍니다. 존재하는 모든 것은 텅 비어있는 원자로 구성되어 있고, 원자는 더러움과 깨끗함, 그리고 불멸성과 같은 고유한 성질을 가지고 있지 않기 때문에, 자연계의 에너지의 총량은 늘 일정하게 보존되어야 합니다. 이에 따라, 영혼은 양자에너지적 성격을 가진 의식에너지로서, 감정에너지를 주고받으면서 카르마를 끝없이 이어나가며, 생은 끝없이 반복됩니다. 이러한 현상을 양자의식이론의 관점에서 이해함으로써, 현대 과학이 최첨단으로 발전할수록 헛소리 취급당했던 고대의 지혜들이 다시금 밝혀지고 있습니다.',\n",
              "  '이 글에서는 놓음을 통해 집착에서 벗어나 현재에 집중하고 나의 내면과 감정 상태를 관찰하는 것이 중요하다는 것을 이야기합니다. 카르마와 자유의지는 모순적인 원리이지만 둘 다 동시에 존재하고 있으며, 각자만의 선택에 따라 운명에 힘을 실어줄 것이냐 자유의지에 힘을 실어줄 것이냐 결정할 수 있다는 것을 말합니다. 이용과 해소 중에서 마음이 끌리는 쪽을 선택하면서 각자의 행복을 찾아가면 된다는 것을 마지막으로 언급하고 있습니다.'],\n",
              " 'output_text': '이 글에서는 놓음을 통해 집착에서 벗어나 현재에 집중하고 나의 내면과 감정 상태를 관찰하는 것이 중요하다는 것을 이야기합니다. 카르마와 자유의지는 모순적인 원리이지만 둘 다 동시에 존재하고 있으며, 각자만의 선택에 따라 운명에 힘을 실어줄 것이냐 자유의지에 힘을 실어줄 것이냐 결정할 수 있다는 것을 말합니다. 이용과 해소 중에서 마음이 끌리는 쪽을 선택하면서 각자의 행복을 찾아가면 된다는 것을 마지막으로 언급하고 있습니다.'}"
            ]
          },
          "execution_count": 23,
          "metadata": {},
          "output_type": "execute_result"
        }
      ],
      "source": [
        "res"
      ]
    },
    {
      "cell_type": "code",
      "execution_count": 25,
      "metadata": {},
      "outputs": [
        {
          "name": "stdout",
          "output_type": "stream",
          "text": [
            "('이 글에서는 놓음을 통해 집착에서 벗어나 현재에 집중하고 나의 내면과 감정 상태를 관찰하는 것이 중요하다는 것을 이야기합니다. \\n'\n",
            " '카르마와 자유의지는 모순적인 원리이지만 둘 다 동시에 존재하고 있으며, 각자만의 선택에 따라 운명에 힘을 실어줄 것이냐 자유의지에 힘을 '\n",
            " '실어줄 것이냐 결정할 수 있다는 것을 말합니다. \\n'\n",
            " '이용과 해소 중에서 마음이 끌리는 쪽을 선택하면서 각자의 행복을 찾아가면 된다는 것을 마지막으로 언급하고 있습니다.')\n"
          ]
        }
      ],
      "source": [
        "pprint(res['output_text'].replace('. ', '. \\n'))"
      ]
    },
    {
      "cell_type": "code",
      "execution_count": null,
      "metadata": {},
      "outputs": [],
      "source": [
        "# map_reduce 는 안됨\n",
        "# map_reduce와 refine의 기능 차이를 알아야함\n",
        "\n",
        "# https://python.langchain.com/en/latest/reference/modules/text_splitter.html\n",
        "\n",
        "from langchain import text_splitter\n",
        "from langchain.docstore.document import Document\n",
        "from langchain import PromptTemplate                 \n",
        "\n",
        "# bullet_point_prompt_template = \"\"\"Write notes about the following transcription. Use bullet points in complete sentences. \n",
        "# Use * (asterisk followed by a space) for the point. Include all details such as titles, citations, dates and so on.\n",
        "# Any text that resembles Roko should be spelled Roko. Some common misspellings include Rocko and Rocco. Please make\n",
        "# sure to spell it correctly.\n",
        "bullet_point_prompt_template = \"\"\"Do summarization for given transcription. provide language in Korean.\n",
        "\n",
        "{text}\n",
        "\n",
        "NOTES:\n",
        "\"\"\"\n",
        "\n",
        "bullet_point_prompt = PromptTemplate(template=bullet_point_prompt_template, input_variables=[\"text\"])\n",
        "paragraphs = text_splitter.TokenTextSplitter().split_text(transcript)\n",
        "docs = [Document(page_content=t) for t in paragraphs]\n",
        "\n",
        "llmc = ChatOpenAI(temperature=0.9, model_name=\"gpt-3.5-turbo\")\n",
        "chain = load_summarize_chain(llmc, chain_type=\"map_reduce\", return_intermediate_steps=True, map_reduce_prompt=bullet_point_prompt)\n",
        "\n",
        "print(chain({\"input_documents\": docs}, return_only_outputs=True))"
      ]
    },
    {
      "cell_type": "code",
      "execution_count": null,
      "metadata": {},
      "outputs": [],
      "source": [
        "# https://github.com/hwchase17/langchain/issues/833\n",
        "\n",
        "from langchain import PromptTemplate\n",
        "\n",
        "bullet_point_prompt_template = \"\"\"Write notes about the following transcription. Use bullet points in complete sentences. \n",
        "Use * (asterisk followed by a space) for the point. Include all details such as titles, citations, dates and so on.\n",
        "Any text that resembles Roko should be spelled Roko. Some common misspellings include Rocko and Rocco. Please make\n",
        "sure to spell it correctly.\n",
        "\n",
        "{text}\n",
        "\n",
        "NOTES:\n",
        "\"\"\"\n",
        "\n",
        "bullet_point_prompt = PromptTemplate(template=bullet_point_prompt_template, input_variables=[\"text\"])\n",
        "def generate_summary(audio_id):\n",
        "    print(f\"Generating summary for transcription {audio_id}\")\n",
        "    audio = db.getAudio(audio_id)\n",
        "    text_splitter = NLTKTextSplitter(chunk_size=2000)\n",
        "    texts = text_splitter.split_text(audio['transcription'])\n",
        "    docs = [Document(page_content=t) for t in texts]\n",
        "    chain = load_summarize_chain(llm, chain_type=\"refine\", \n",
        "    return_intermediate_steps=True, refine_prompt=bullet_point_prompt)\n",
        "    print(chain({\"input_documents\": docs}, return_only_outputs=True))"
      ]
    },
    {
      "cell_type": "code",
      "execution_count": null,
      "metadata": {},
      "outputs": [],
      "source": [
        "summary_chain_cgpt35.run(transcript)"
      ]
    },
    {
      "cell_type": "code",
      "execution_count": null,
      "metadata": {},
      "outputs": [],
      "source": [
        "pprint(summarize_document_chain_cgpt35.run(transcript))"
      ]
    },
    {
      "cell_type": "markdown",
      "metadata": {
        "id": "aU16rhaRwSSA"
      },
      "source": [
        "### How much?\n",
        "\n",
        "- text-davinci, 6 requests\n",
        "- 101,611 prompt + 8,930 completion = 110,541 tokens\n",
        "- $0.47 == ₩611"
      ]
    },
    {
      "cell_type": "markdown",
      "metadata": {
        "id": "A3fokvWF3pYr"
      },
      "source": [
        "## Question Answering 질문 답변\n",
        "\n",
        "1~3분 소요"
      ]
    },
    {
      "cell_type": "code",
      "execution_count": 41,
      "metadata": {
        "id": "xkg7o2HqusGG"
      },
      "outputs": [],
      "source": [
        "from langchain.chains.question_answering import load_qa_chain\n",
        "from langchain.chat_models import ChatOpenAI\n",
        "\n",
        "model = ChatOpenAI(model=\"gpt-3.5-turbo\") # gpt-3.5-turbo, gpt-4\n",
        "\n",
        "qa_chain = load_qa_chain(model, chain_type=\"map_reduce\")\n",
        "qa_document_chain = AnalyzeDocumentChain(combine_docs_chain=qa_chain)"
      ]
    },
    {
      "cell_type": "code",
      "execution_count": 42,
      "metadata": {
        "colab": {
          "base_uri": "https://localhost:8080/",
          "height": 36
        },
        "id": "apm_K1P9x-6O",
        "outputId": "df6b4bb6-925b-4130-f60a-332c2de05fa3"
      },
      "outputs": [
        {
          "data": {
            "text/plain": [
              "'주어진 텍스트에는 싱클레어를 괴롭힌 사람에 대한 구체적인 정보가 제공되지 않았습니다. 따라서, 이 질문에 대한 정확한 답변을 제공할 수 없습니다.'"
            ]
          },
          "execution_count": 42,
          "metadata": {},
          "output_type": "execute_result"
        }
      ],
      "source": [
        "qa_document_chain.run(\n",
        "    input_document=raw_text,\n",
        "    question=\"싱클레어를 괴롭힌 사람은?\")"
      ]
    },
    {
      "cell_type": "code",
      "execution_count": null,
      "metadata": {
        "colab": {
          "base_uri": "https://localhost:8080/",
          "height": 36
        },
        "id": "fHgeMcB2xi9n",
        "outputId": "d77d194e-0c86-4929-93c6-822f5c8425d1"
      },
      "outputs": [
        {
          "data": {
            "application/vnd.google.colaboratory.intrinsic+json": {
              "type": "string"
            },
            "text/plain": [
              "'제공된 텍스트에서는 싱클레어가 데미안을 만난 경위에 대한 구체적인 정보가 제공되지 않습니다. 따라서 이 질문에 대한 답변을 제공할 수 없습니다.'"
            ]
          },
          "execution_count": 18,
          "metadata": {},
          "output_type": "execute_result"
        }
      ],
      "source": [
        "qa_document_chain.run(\n",
        "    input_document=raw_text,\n",
        "    question=\"싱클레어는 데미안을 어디서 어떻게 만났지?\")"
      ]
    },
    {
      "cell_type": "code",
      "execution_count": null,
      "metadata": {
        "colab": {
          "base_uri": "https://localhost:8080/",
          "height": 36
        },
        "id": "1wEAPH_91rjr",
        "outputId": "6222d92f-240b-446d-971d-fbb30c5d2cf3"
      },
      "outputs": [
        {
          "data": {
            "application/vnd.google.colaboratory.intrinsic+json": {
              "type": "string"
            },
            "text/plain": [
              "'저는 주어진 텍스트에서 데미안의 외모에 대한 구체적인 묘사를 찾을 수 없었습니다. 따라서 데미안의 외모에 대한 정보를 제공할 수 없습니다.'"
            ]
          },
          "execution_count": 20,
          "metadata": {},
          "output_type": "execute_result"
        }
      ],
      "source": [
        "qa_document_chain.run(\n",
        "    input_document=raw_text,\n",
        "    question=\"데미안의 외모를 묘사해봐\")"
      ]
    },
    {
      "cell_type": "markdown",
      "metadata": {
        "id": "JPwxmFMT345n"
      },
      "source": [
        "### GPT-4\n",
        "\n",
        "11분 소요\n",
        "\n",
        "- gpt-4-0314, 28 requests\n",
        "    - 29,503 prompt + 1,111 completion = 30,614 tokens tokens\n",
        "- gpt-4-0314, 42 requests\n",
        "    - 44,041 prompt + 1,784 completion = 45,825 tokens\n",
        "- gpt-4-0314, 10 requests\n",
        "    - 10,652 prompt + 865 completion = 11,517 tokens\n",
        "\n",
        "\n",
        "87,956 tokens total == $5.28\n",
        "\n",
        "> $0.06 / 1K tokens"
      ]
    },
    {
      "cell_type": "code",
      "execution_count": null,
      "metadata": {
        "colab": {
          "base_uri": "https://localhost:8080/",
          "height": 53
        },
        "id": "COXjS5Hx1uJy",
        "outputId": "53313615-4189-4ff7-ef40-267b5c8a4d61"
      },
      "outputs": [
        {
          "data": {
            "application/vnd.google.colaboratory.intrinsic+json": {
              "type": "string"
            },
            "text/plain": [
              "'데미안의 외모는 다음과 같이 묘사되어 있습니다: 근접한 갈색 머리카락, 반여성적인 입, 이상한 밝기를 가진 강한 이마, 그리고 넓게 벌어진 녹색 눈동자로, 오른쪽 눈이 왼쪽 눈보다 약간 높게 위치해 있습니다. 또한, 데미안은 군복을 입고 은색 회색 망토를 입은 모습이 기묘하고 이상한 것처럼 묘사되어 있습니다.'"
            ]
          },
          "execution_count": 22,
          "metadata": {},
          "output_type": "execute_result"
        }
      ],
      "source": [
        "model = ChatOpenAI(model=\"gpt-4\") # gpt-3.5-turbo, gpt-4\n",
        "\n",
        "qa_chain = load_qa_chain(model, chain_type=\"map_reduce\")\n",
        "qa_document_chain = AnalyzeDocumentChain(combine_docs_chain=qa_chain)\n",
        "\n",
        "qa_document_chain.run(\n",
        "    input_document=raw_text,\n",
        "    question=\"데미안의 외모를 묘사해봐\")"
      ]
    },
    {
      "cell_type": "markdown",
      "metadata": {
        "id": "6ANyHV9S-Iqv"
      },
      "source": [
        "## 엑셀, CSV 검색, Aggregation"
      ]
    },
    {
      "cell_type": "code",
      "execution_count": 45,
      "metadata": {
        "colab": {
          "base_uri": "https://localhost:8080/",
          "height": 285
        },
        "id": "yNTynjZB-EX1",
        "outputId": "7194865f-50d7-4ef9-9f92-4a701cc7201f"
      },
      "outputs": [
        {
          "data": {
            "text/html": [
              "<div>\n",
              "<style scoped>\n",
              "    .dataframe tbody tr th:only-of-type {\n",
              "        vertical-align: middle;\n",
              "    }\n",
              "\n",
              "    .dataframe tbody tr th {\n",
              "        vertical-align: top;\n",
              "    }\n",
              "\n",
              "    .dataframe thead th {\n",
              "        text-align: right;\n",
              "    }\n",
              "</style>\n",
              "<table border=\"1\" class=\"dataframe\">\n",
              "  <thead>\n",
              "    <tr style=\"text-align: right;\">\n",
              "      <th></th>\n",
              "      <th>PassengerId</th>\n",
              "      <th>Survived</th>\n",
              "      <th>Pclass</th>\n",
              "      <th>Name</th>\n",
              "      <th>Sex</th>\n",
              "      <th>Age</th>\n",
              "      <th>SibSp</th>\n",
              "      <th>Parch</th>\n",
              "      <th>Ticket</th>\n",
              "      <th>Fare</th>\n",
              "      <th>Cabin</th>\n",
              "      <th>Embarked</th>\n",
              "    </tr>\n",
              "  </thead>\n",
              "  <tbody>\n",
              "    <tr>\n",
              "      <th>0</th>\n",
              "      <td>1</td>\n",
              "      <td>0</td>\n",
              "      <td>3</td>\n",
              "      <td>Braund, Mr. Owen Harris</td>\n",
              "      <td>male</td>\n",
              "      <td>22.0</td>\n",
              "      <td>1</td>\n",
              "      <td>0</td>\n",
              "      <td>A/5 21171</td>\n",
              "      <td>7.2500</td>\n",
              "      <td>NaN</td>\n",
              "      <td>S</td>\n",
              "    </tr>\n",
              "    <tr>\n",
              "      <th>1</th>\n",
              "      <td>2</td>\n",
              "      <td>1</td>\n",
              "      <td>1</td>\n",
              "      <td>Cumings, Mrs. John Bradley (Florence Briggs Th...</td>\n",
              "      <td>female</td>\n",
              "      <td>38.0</td>\n",
              "      <td>1</td>\n",
              "      <td>0</td>\n",
              "      <td>PC 17599</td>\n",
              "      <td>71.2833</td>\n",
              "      <td>C85</td>\n",
              "      <td>C</td>\n",
              "    </tr>\n",
              "    <tr>\n",
              "      <th>2</th>\n",
              "      <td>3</td>\n",
              "      <td>1</td>\n",
              "      <td>3</td>\n",
              "      <td>Heikkinen, Miss. Laina</td>\n",
              "      <td>female</td>\n",
              "      <td>26.0</td>\n",
              "      <td>0</td>\n",
              "      <td>0</td>\n",
              "      <td>STON/O2. 3101282</td>\n",
              "      <td>7.9250</td>\n",
              "      <td>NaN</td>\n",
              "      <td>S</td>\n",
              "    </tr>\n",
              "    <tr>\n",
              "      <th>3</th>\n",
              "      <td>4</td>\n",
              "      <td>1</td>\n",
              "      <td>1</td>\n",
              "      <td>Futrelle, Mrs. Jacques Heath (Lily May Peel)</td>\n",
              "      <td>female</td>\n",
              "      <td>35.0</td>\n",
              "      <td>1</td>\n",
              "      <td>0</td>\n",
              "      <td>113803</td>\n",
              "      <td>53.1000</td>\n",
              "      <td>C123</td>\n",
              "      <td>S</td>\n",
              "    </tr>\n",
              "    <tr>\n",
              "      <th>4</th>\n",
              "      <td>5</td>\n",
              "      <td>0</td>\n",
              "      <td>3</td>\n",
              "      <td>Allen, Mr. William Henry</td>\n",
              "      <td>male</td>\n",
              "      <td>35.0</td>\n",
              "      <td>0</td>\n",
              "      <td>0</td>\n",
              "      <td>373450</td>\n",
              "      <td>8.0500</td>\n",
              "      <td>NaN</td>\n",
              "      <td>S</td>\n",
              "    </tr>\n",
              "  </tbody>\n",
              "</table>\n",
              "</div>"
            ],
            "text/plain": [
              "   PassengerId  Survived  Pclass   \n",
              "0            1         0       3  \\\n",
              "1            2         1       1   \n",
              "2            3         1       3   \n",
              "3            4         1       1   \n",
              "4            5         0       3   \n",
              "\n",
              "                                                Name     Sex   Age  SibSp   \n",
              "0                            Braund, Mr. Owen Harris    male  22.0      1  \\\n",
              "1  Cumings, Mrs. John Bradley (Florence Briggs Th...  female  38.0      1   \n",
              "2                             Heikkinen, Miss. Laina  female  26.0      0   \n",
              "3       Futrelle, Mrs. Jacques Heath (Lily May Peel)  female  35.0      1   \n",
              "4                           Allen, Mr. William Henry    male  35.0      0   \n",
              "\n",
              "   Parch            Ticket     Fare Cabin Embarked  \n",
              "0      0         A/5 21171   7.2500   NaN        S  \n",
              "1      0          PC 17599  71.2833   C85        C  \n",
              "2      0  STON/O2. 3101282   7.9250   NaN        S  \n",
              "3      0            113803  53.1000  C123        S  \n",
              "4      0            373450   8.0500   NaN        S  "
            ]
          },
          "execution_count": 45,
          "metadata": {},
          "output_type": "execute_result"
        }
      ],
      "source": [
        "import pandas as pd\n",
        "\n",
        "df = pd.read_csv(\"https://github.com/kairess/toy-datasets/raw/master/titanic.csv\")\n",
        "\n",
        "df.head()"
      ]
    },
    {
      "cell_type": "code",
      "execution_count": 46,
      "metadata": {
        "colab": {
          "base_uri": "https://localhost:8080/",
          "height": 226
        },
        "id": "VvK5-0GA-Hgp",
        "outputId": "3e76028a-ddcb-46ef-9130-0af8d9711c3d"
      },
      "outputs": [
        {
          "name": "stdout",
          "output_type": "stream",
          "text": [
            "\n",
            "\n",
            "\u001b[1m> Entering new AgentExecutor chain...\u001b[0m\n",
            "\u001b[32;1m\u001b[1;3mThought: I need to count the number of rows\n",
            "Action: python_repl_ast\n",
            "Action Input: len(df)\u001b[0m\n",
            "Observation: \u001b[36;1m\u001b[1;3m891\u001b[0m\n",
            "Thought:\u001b[32;1m\u001b[1;3m I now know the final answer\n",
            "Final Answer: There are 891 rows in the dataframe.\u001b[0m\n",
            "\n",
            "\u001b[1m> Finished chain.\u001b[0m\n"
          ]
        },
        {
          "data": {
            "text/plain": [
              "'There are 891 rows in the dataframe.'"
            ]
          },
          "execution_count": 46,
          "metadata": {},
          "output_type": "execute_result"
        }
      ],
      "source": [
        "from langchain.agents import create_pandas_dataframe_agent\n",
        "\n",
        "agent = create_pandas_dataframe_agent(OpenAI(temperature=0), df, verbose=True)\n",
        "\n",
        "agent.run(\"how many rows are there?\")"
      ]
    },
    {
      "cell_type": "code",
      "execution_count": null,
      "metadata": {
        "colab": {
          "base_uri": "https://localhost:8080/",
          "height": 226
        },
        "id": "hJn2siQo-uW6",
        "outputId": "6f21e73b-00d9-4000-efac-7e9a14178f24"
      },
      "outputs": [
        {
          "name": "stdout",
          "output_type": "stream",
          "text": [
            "\n",
            "\n",
            "\u001b[1m> Entering new AgentExecutor chain...\u001b[0m\n",
            "\u001b[32;1m\u001b[1;3mThought: 데이터 프레임의 크기를 알아보자\n",
            "Action: python_repl_ast\n",
            "Action Input: df.shape\u001b[0m\n",
            "Observation: \u001b[36;1m\u001b[1;3m(891, 12)\u001b[0m\n",
            "Thought:\u001b[32;1m\u001b[1;3m 행의 개지는 첫 번째 숫자임\n",
            "Final Answer: 891개\u001b[0m\n",
            "\n",
            "\u001b[1m> Finished chain.\u001b[0m\n"
          ]
        },
        {
          "data": {
            "application/vnd.google.colaboratory.intrinsic+json": {
              "type": "string"
            },
            "text/plain": [
              "'891개'"
            ]
          },
          "execution_count": 25,
          "metadata": {},
          "output_type": "execute_result"
        }
      ],
      "source": [
        "agent.run(\"행이 몇 개지?\")"
      ]
    },
    {
      "cell_type": "code",
      "execution_count": 47,
      "metadata": {
        "colab": {
          "base_uri": "https://localhost:8080/",
          "height": 226
        },
        "id": "tXlJBFt7-zIl",
        "outputId": "ee15b67a-cfbf-4890-95a5-440f2f083cfa"
      },
      "outputs": [
        {
          "name": "stdout",
          "output_type": "stream",
          "text": [
            "\n",
            "\n",
            "\u001b[1m> Entering new AgentExecutor chain...\u001b[0m\n",
            "\u001b[32;1m\u001b[1;3mThought: 나는 이 데이터 프레임에서 평균 연령을 찾아야한다.\n",
            "Action: python_repl_ast\n",
            "Action Input: df['Age'].mean()\u001b[0m\n",
            "Observation: \u001b[36;1m\u001b[1;3m29.69911764705882\u001b[0m\n",
            "Thought:\u001b[32;1m\u001b[1;3m 나는 이제 최종 답을 알겠다.\n",
            "Final Answer: 승객들의 평균 연령은 29.7세입니다.\u001b[0m\n",
            "\n",
            "\u001b[1m> Finished chain.\u001b[0m\n"
          ]
        },
        {
          "data": {
            "text/plain": [
              "'승객들의 평균 연령은 29.7세입니다.'"
            ]
          },
          "execution_count": 47,
          "metadata": {},
          "output_type": "execute_result"
        }
      ],
      "source": [
        "agent.run(\"승객들의 평균 연령은?\")"
      ]
    },
    {
      "cell_type": "code",
      "execution_count": null,
      "metadata": {
        "colab": {
          "base_uri": "https://localhost:8080/",
          "height": 365
        },
        "id": "jRkPXiBY_AB0",
        "outputId": "1d3284c4-bf13-4827-9d9d-050fb4a79b1f"
      },
      "outputs": [
        {
          "name": "stdout",
          "output_type": "stream",
          "text": [
            "\n",
            "\n",
            "\u001b[1m> Entering new AgentExecutor chain...\u001b[0m\n",
            "\u001b[32;1m\u001b[1;3mThought: 남성과 여성의 수를 세야한다.\n",
            "Action: python_repl_ast\n",
            "Action Input: df['Sex'].value_counts()\u001b[0m\n",
            "Observation: \u001b[36;1m\u001b[1;3mmale      577\n",
            "female    314\n",
            "Name: Sex, dtype: int64\u001b[0m\n",
            "Thought:\u001b[32;1m\u001b[1;3m 남성과 여성의 비율을 계산해야한다.\n",
            "Action: python_repl_ast\n",
            "Action Input: df['Sex'].value_counts() / df['Sex'].count()\u001b[0m\n",
            "Observation: \u001b[36;1m\u001b[1;3mmale      0.647587\n",
            "female    0.352413\n",
            "Name: Sex, dtype: float64\u001b[0m\n",
            "Thought:\u001b[32;1m\u001b[1;3m 남성과 여성의 비율을 알았다.\n",
            "Final Answer: 남성의 비율은 0.647587, 여성의 비율은 0.352413입니다.\u001b[0m\n",
            "\n",
            "\u001b[1m> Finished chain.\u001b[0m\n"
          ]
        },
        {
          "data": {
            "application/vnd.google.colaboratory.intrinsic+json": {
              "type": "string"
            },
            "text/plain": [
              "'남성의 비율은 0.647587, 여성의 비율은 0.352413입니다.'"
            ]
          },
          "execution_count": 27,
          "metadata": {},
          "output_type": "execute_result"
        }
      ],
      "source": [
        "agent.run(\"남성과 여성의 비율은?\")"
      ]
    },
    {
      "cell_type": "code",
      "execution_count": null,
      "metadata": {
        "colab": {
          "base_uri": "https://localhost:8080/",
          "height": 348
        },
        "id": "fVj1Ubfe_OAU",
        "outputId": "4de1f5d8-b2e6-4561-c899-3f95159aea3c"
      },
      "outputs": [
        {
          "name": "stdout",
          "output_type": "stream",
          "text": [
            "\n",
            "\n",
            "\u001b[1m> Entering new AgentExecutor chain...\u001b[0m\n",
            "\u001b[32;1m\u001b[1;3mThought: 먼저 객실 등급과 성별로 그룹화해야 할 것 같다.\n",
            "Action: python_repl_ast\n",
            "Action Input: df.groupby(['Pclass', 'Sex'])['Survived'].sum()\u001b[0m\n",
            "Observation: \u001b[36;1m\u001b[1;3mPclass  Sex   \n",
            "1       female    91\n",
            "        male      45\n",
            "2       female    70\n",
            "        male      17\n",
            "3       female    72\n",
            "        male      47\n",
            "Name: Survived, dtype: int64\u001b[0m\n",
            "Thought:\u001b[32;1m\u001b[1;3m 이제 생존자 수를 계산할 수 있다.\n",
            "Final Answer: 객실 등급과 성별에 따른 생존자 수는 각각 91명, 45명, 70명, 17명, 72명, 47명입니다.\u001b[0m\n",
            "\n",
            "\u001b[1m> Finished chain.\u001b[0m\n"
          ]
        },
        {
          "data": {
            "application/vnd.google.colaboratory.intrinsic+json": {
              "type": "string"
            },
            "text/plain": [
              "'객실 등급과 성별에 따른 생존자 수는 각각 91명, 45명, 70명, 17명, 72명, 47명입니다.'"
            ]
          },
          "execution_count": 28,
          "metadata": {},
          "output_type": "execute_result"
        }
      ],
      "source": [
        "agent.run(\"객실 등급과 성별에 따른 생존자 수를 계산해줘\")"
      ]
    },
    {
      "cell_type": "code",
      "execution_count": null,
      "metadata": {
        "id": "bn_r7VTVADZo"
      },
      "outputs": [],
      "source": []
    }
  ],
  "metadata": {
    "colab": {
      "provenance": []
    },
    "kernelspec": {
      "display_name": "autogpt",
      "language": "python",
      "name": "autogpt"
    },
    "language_info": {
      "codemirror_mode": {
        "name": "ipython",
        "version": 3
      },
      "file_extension": ".py",
      "mimetype": "text/x-python",
      "name": "python",
      "nbconvert_exporter": "python",
      "pygments_lexer": "ipython3",
      "version": "3.9.0"
    }
  },
  "nbformat": 4,
  "nbformat_minor": 0
}
