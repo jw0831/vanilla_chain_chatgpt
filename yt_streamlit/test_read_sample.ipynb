{
 "cells": [
  {
   "cell_type": "code",
   "execution_count": 2,
   "metadata": {},
   "outputs": [],
   "source": [
    "import pandas as pd"
   ]
  },
  {
   "cell_type": "code",
   "execution_count": 3,
   "metadata": {},
   "outputs": [
    {
     "data": {
      "text/html": [
       "<div>\n",
       "<style scoped>\n",
       "    .dataframe tbody tr th:only-of-type {\n",
       "        vertical-align: middle;\n",
       "    }\n",
       "\n",
       "    .dataframe tbody tr th {\n",
       "        vertical-align: top;\n",
       "    }\n",
       "\n",
       "    .dataframe thead th {\n",
       "        text-align: right;\n",
       "    }\n",
       "</style>\n",
       "<table border=\"1\" class=\"dataframe\">\n",
       "  <thead>\n",
       "    <tr style=\"text-align: right;\">\n",
       "      <th></th>\n",
       "      <th>url</th>\n",
       "      <th>text</th>\n",
       "    </tr>\n",
       "  </thead>\n",
       "  <tbody>\n",
       "    <tr>\n",
       "      <th>0</th>\n",
       "      <td>https://youtube.com/watch?v=njALaJPoNio</td>\n",
       "      <td>휴증이 풀린 통화량보다 아파트 시가총액이 많다는 얘기는 뭐예요? 그만큼 거품이 있...</td>\n",
       "    </tr>\n",
       "    <tr>\n",
       "      <th>1</th>\n",
       "      <td>https://youtube.com/watch?v=fg2w8YmM_OM</td>\n",
       "      <td>하이닉스 중국의 우시공장이 중국 자본도 들어가 있다고 하더라고요. 그럼 중국이 요...</td>\n",
       "    </tr>\n",
       "    <tr>\n",
       "      <th>2</th>\n",
       "      <td>https://youtube.com/watch?v=eDQhkDaaEV4</td>\n",
       "      <td>근데 그 사이에 나는 10만원씩 1년이면 120만원, 1200만원을 눈이 오나 비...</td>\n",
       "    </tr>\n",
       "    <tr>\n",
       "      <th>3</th>\n",
       "      <td>https://youtube.com/watch?v=9vbwK3OMyiM</td>\n",
       "      <td>전 재산을 지금 상실한 상황이에요. 그런 상태에서 이자는 지금 계속 나가야 돼. ...</td>\n",
       "    </tr>\n",
       "    <tr>\n",
       "      <th>4</th>\n",
       "      <td>https://youtube.com/watch?v=domo2_0Aw2g</td>\n",
       "      <td>테슬라가 중국 시장에서 마켓쉐어를 상실하고 있는 일이 지금 일어나고 있어요. 이 ...</td>\n",
       "    </tr>\n",
       "  </tbody>\n",
       "</table>\n",
       "</div>"
      ],
      "text/plain": [
       "                                       url  \\\n",
       "0  https://youtube.com/watch?v=njALaJPoNio   \n",
       "1  https://youtube.com/watch?v=fg2w8YmM_OM   \n",
       "2  https://youtube.com/watch?v=eDQhkDaaEV4   \n",
       "3  https://youtube.com/watch?v=9vbwK3OMyiM   \n",
       "4  https://youtube.com/watch?v=domo2_0Aw2g   \n",
       "\n",
       "                                                text  \n",
       "0   휴증이 풀린 통화량보다 아파트 시가총액이 많다는 얘기는 뭐예요? 그만큼 거품이 있...  \n",
       "1   하이닉스 중국의 우시공장이 중국 자본도 들어가 있다고 하더라고요. 그럼 중국이 요...  \n",
       "2   근데 그 사이에 나는 10만원씩 1년이면 120만원, 1200만원을 눈이 오나 비...  \n",
       "3   전 재산을 지금 상실한 상황이에요. 그런 상태에서 이자는 지금 계속 나가야 돼. ...  \n",
       "4   테슬라가 중국 시장에서 마켓쉐어를 상실하고 있는 일이 지금 일어나고 있어요. 이 ...  "
      ]
     },
     "execution_count": 3,
     "metadata": {},
     "output_type": "execute_result"
    }
   ],
   "source": [
    "df = pd.read_csv('./sample_data.csv')\n",
    "df.head()"
   ]
  },
  {
   "cell_type": "code",
   "execution_count": 5,
   "metadata": {},
   "outputs": [
    {
     "data": {
      "text/plain": [
       "'watch?v=njALaJPoNio'"
      ]
     },
     "execution_count": 5,
     "metadata": {},
     "output_type": "execute_result"
    }
   ],
   "source": [
    "df.url[0].split('/')[-1]"
   ]
  },
  {
   "cell_type": "code",
   "execution_count": 6,
   "metadata": {},
   "outputs": [],
   "source": [
    "df['video_id'] = df.url.apply(lambda x: x.split('/')[-1])"
   ]
  },
  {
   "cell_type": "code",
   "execution_count": 8,
   "metadata": {},
   "outputs": [
    {
     "data": {
      "text/html": [
       "<div>\n",
       "<style scoped>\n",
       "    .dataframe tbody tr th:only-of-type {\n",
       "        vertical-align: middle;\n",
       "    }\n",
       "\n",
       "    .dataframe tbody tr th {\n",
       "        vertical-align: top;\n",
       "    }\n",
       "\n",
       "    .dataframe thead th {\n",
       "        text-align: right;\n",
       "    }\n",
       "</style>\n",
       "<table border=\"1\" class=\"dataframe\">\n",
       "  <thead>\n",
       "    <tr style=\"text-align: right;\">\n",
       "      <th></th>\n",
       "      <th>url</th>\n",
       "      <th>text</th>\n",
       "      <th>video_id</th>\n",
       "    </tr>\n",
       "  </thead>\n",
       "  <tbody>\n",
       "    <tr>\n",
       "      <th>0</th>\n",
       "      <td>https://youtube.com/watch?v=njALaJPoNio</td>\n",
       "      <td>휴증이 풀린 통화량보다 아파트 시가총액이 많다는 얘기는 뭐예요? 그만큼 거품이 있...</td>\n",
       "      <td>watch?v=njALaJPoNio</td>\n",
       "    </tr>\n",
       "    <tr>\n",
       "      <th>1</th>\n",
       "      <td>https://youtube.com/watch?v=fg2w8YmM_OM</td>\n",
       "      <td>하이닉스 중국의 우시공장이 중국 자본도 들어가 있다고 하더라고요. 그럼 중국이 요...</td>\n",
       "      <td>watch?v=fg2w8YmM_OM</td>\n",
       "    </tr>\n",
       "    <tr>\n",
       "      <th>2</th>\n",
       "      <td>https://youtube.com/watch?v=eDQhkDaaEV4</td>\n",
       "      <td>근데 그 사이에 나는 10만원씩 1년이면 120만원, 1200만원을 눈이 오나 비...</td>\n",
       "      <td>watch?v=eDQhkDaaEV4</td>\n",
       "    </tr>\n",
       "    <tr>\n",
       "      <th>3</th>\n",
       "      <td>https://youtube.com/watch?v=9vbwK3OMyiM</td>\n",
       "      <td>전 재산을 지금 상실한 상황이에요. 그런 상태에서 이자는 지금 계속 나가야 돼. ...</td>\n",
       "      <td>watch?v=9vbwK3OMyiM</td>\n",
       "    </tr>\n",
       "    <tr>\n",
       "      <th>4</th>\n",
       "      <td>https://youtube.com/watch?v=domo2_0Aw2g</td>\n",
       "      <td>테슬라가 중국 시장에서 마켓쉐어를 상실하고 있는 일이 지금 일어나고 있어요. 이 ...</td>\n",
       "      <td>watch?v=domo2_0Aw2g</td>\n",
       "    </tr>\n",
       "  </tbody>\n",
       "</table>\n",
       "</div>"
      ],
      "text/plain": [
       "                                       url  \\\n",
       "0  https://youtube.com/watch?v=njALaJPoNio   \n",
       "1  https://youtube.com/watch?v=fg2w8YmM_OM   \n",
       "2  https://youtube.com/watch?v=eDQhkDaaEV4   \n",
       "3  https://youtube.com/watch?v=9vbwK3OMyiM   \n",
       "4  https://youtube.com/watch?v=domo2_0Aw2g   \n",
       "\n",
       "                                                text             video_id  \n",
       "0   휴증이 풀린 통화량보다 아파트 시가총액이 많다는 얘기는 뭐예요? 그만큼 거품이 있...  watch?v=njALaJPoNio  \n",
       "1   하이닉스 중국의 우시공장이 중국 자본도 들어가 있다고 하더라고요. 그럼 중국이 요...  watch?v=fg2w8YmM_OM  \n",
       "2   근데 그 사이에 나는 10만원씩 1년이면 120만원, 1200만원을 눈이 오나 비...  watch?v=eDQhkDaaEV4  \n",
       "3   전 재산을 지금 상실한 상황이에요. 그런 상태에서 이자는 지금 계속 나가야 돼. ...  watch?v=9vbwK3OMyiM  \n",
       "4   테슬라가 중국 시장에서 마켓쉐어를 상실하고 있는 일이 지금 일어나고 있어요. 이 ...  watch?v=domo2_0Aw2g  "
      ]
     },
     "execution_count": 8,
     "metadata": {},
     "output_type": "execute_result"
    }
   ],
   "source": [
    "df.head()"
   ]
  },
  {
   "cell_type": "code",
   "execution_count": 9,
   "metadata": {},
   "outputs": [],
   "source": [
    "# use video id to save transcript (text) as txt file in the same folder\n",
    "\n",
    "for i, content in df.iterrows():\n",
    "    # print(content.video_id)\n",
    "    # print(content.text)\n",
    "    with open(f'./transcript_file/{content.video_id}_transcript.txt', 'w', encoding='utf-8') as f:\n",
    "        f.write(content.text)"
   ]
  },
  {
   "cell_type": "code",
   "execution_count": 10,
   "metadata": {},
   "outputs": [
    {
     "data": {
      "text/html": [
       "<div>\n",
       "<style scoped>\n",
       "    .dataframe tbody tr th:only-of-type {\n",
       "        vertical-align: middle;\n",
       "    }\n",
       "\n",
       "    .dataframe tbody tr th {\n",
       "        vertical-align: top;\n",
       "    }\n",
       "\n",
       "    .dataframe thead th {\n",
       "        text-align: right;\n",
       "    }\n",
       "</style>\n",
       "<table border=\"1\" class=\"dataframe\">\n",
       "  <thead>\n",
       "    <tr style=\"text-align: right;\">\n",
       "      <th></th>\n",
       "      <th>url</th>\n",
       "      <th>text</th>\n",
       "      <th>video_id</th>\n",
       "    </tr>\n",
       "  </thead>\n",
       "  <tbody>\n",
       "    <tr>\n",
       "      <th>0</th>\n",
       "      <td>https://youtube.com/watch?v=njALaJPoNio</td>\n",
       "      <td>휴증이 풀린 통화량보다 아파트 시가총액이 많다는 얘기는 뭐예요? 그만큼 거품이 있...</td>\n",
       "      <td>watch?v=njALaJPoNio</td>\n",
       "    </tr>\n",
       "    <tr>\n",
       "      <th>1</th>\n",
       "      <td>https://youtube.com/watch?v=fg2w8YmM_OM</td>\n",
       "      <td>하이닉스 중국의 우시공장이 중국 자본도 들어가 있다고 하더라고요. 그럼 중국이 요...</td>\n",
       "      <td>watch?v=fg2w8YmM_OM</td>\n",
       "    </tr>\n",
       "    <tr>\n",
       "      <th>2</th>\n",
       "      <td>https://youtube.com/watch?v=eDQhkDaaEV4</td>\n",
       "      <td>근데 그 사이에 나는 10만원씩 1년이면 120만원, 1200만원을 눈이 오나 비...</td>\n",
       "      <td>watch?v=eDQhkDaaEV4</td>\n",
       "    </tr>\n",
       "    <tr>\n",
       "      <th>3</th>\n",
       "      <td>https://youtube.com/watch?v=9vbwK3OMyiM</td>\n",
       "      <td>전 재산을 지금 상실한 상황이에요. 그런 상태에서 이자는 지금 계속 나가야 돼. ...</td>\n",
       "      <td>watch?v=9vbwK3OMyiM</td>\n",
       "    </tr>\n",
       "    <tr>\n",
       "      <th>4</th>\n",
       "      <td>https://youtube.com/watch?v=domo2_0Aw2g</td>\n",
       "      <td>테슬라가 중국 시장에서 마켓쉐어를 상실하고 있는 일이 지금 일어나고 있어요. 이 ...</td>\n",
       "      <td>watch?v=domo2_0Aw2g</td>\n",
       "    </tr>\n",
       "    <tr>\n",
       "      <th>5</th>\n",
       "      <td>https://youtube.com/watch?v=MGIzZujNhzI</td>\n",
       "      <td>그러면 다음 사이클에서 하락을 겪고 상승하게 되면 결국엔 우상향하거든요, 그래프상...</td>\n",
       "      <td>watch?v=MGIzZujNhzI</td>\n",
       "    </tr>\n",
       "    <tr>\n",
       "      <th>6</th>\n",
       "      <td>https://youtube.com/watch?v=G9MIAwESTgk</td>\n",
       "      <td>일본인들은 미국 거였어요. 메가도가 사령관이었죠. 메가도가 일본의 우두머리였던 겁...</td>\n",
       "      <td>watch?v=G9MIAwESTgk</td>\n",
       "    </tr>\n",
       "    <tr>\n",
       "      <th>7</th>\n",
       "      <td>https://youtube.com/watch?v=OYA5gOC6cp0</td>\n",
       "      <td>동기부여도 되고 뭔가 나도 될 것 같고 죄송합니다 안 됩니다 거기까지입니다 쉽게 ...</td>\n",
       "      <td>watch?v=OYA5gOC6cp0</td>\n",
       "    </tr>\n",
       "  </tbody>\n",
       "</table>\n",
       "</div>"
      ],
      "text/plain": [
       "                                       url  \\\n",
       "0  https://youtube.com/watch?v=njALaJPoNio   \n",
       "1  https://youtube.com/watch?v=fg2w8YmM_OM   \n",
       "2  https://youtube.com/watch?v=eDQhkDaaEV4   \n",
       "3  https://youtube.com/watch?v=9vbwK3OMyiM   \n",
       "4  https://youtube.com/watch?v=domo2_0Aw2g   \n",
       "5  https://youtube.com/watch?v=MGIzZujNhzI   \n",
       "6  https://youtube.com/watch?v=G9MIAwESTgk   \n",
       "7  https://youtube.com/watch?v=OYA5gOC6cp0   \n",
       "\n",
       "                                                text             video_id  \n",
       "0   휴증이 풀린 통화량보다 아파트 시가총액이 많다는 얘기는 뭐예요? 그만큼 거품이 있...  watch?v=njALaJPoNio  \n",
       "1   하이닉스 중국의 우시공장이 중국 자본도 들어가 있다고 하더라고요. 그럼 중국이 요...  watch?v=fg2w8YmM_OM  \n",
       "2   근데 그 사이에 나는 10만원씩 1년이면 120만원, 1200만원을 눈이 오나 비...  watch?v=eDQhkDaaEV4  \n",
       "3   전 재산을 지금 상실한 상황이에요. 그런 상태에서 이자는 지금 계속 나가야 돼. ...  watch?v=9vbwK3OMyiM  \n",
       "4   테슬라가 중국 시장에서 마켓쉐어를 상실하고 있는 일이 지금 일어나고 있어요. 이 ...  watch?v=domo2_0Aw2g  \n",
       "5   그러면 다음 사이클에서 하락을 겪고 상승하게 되면 결국엔 우상향하거든요, 그래프상...  watch?v=MGIzZujNhzI  \n",
       "6   일본인들은 미국 거였어요. 메가도가 사령관이었죠. 메가도가 일본의 우두머리였던 겁...  watch?v=G9MIAwESTgk  \n",
       "7   동기부여도 되고 뭔가 나도 될 것 같고 죄송합니다 안 됩니다 거기까지입니다 쉽게 ...  watch?v=OYA5gOC6cp0  "
      ]
     },
     "execution_count": 10,
     "metadata": {},
     "output_type": "execute_result"
    }
   ],
   "source": [
    "df"
   ]
  },
  {
   "cell_type": "code",
   "execution_count": 15,
   "metadata": {},
   "outputs": [],
   "source": [
    "# from youtube url get video title\n",
    "\n",
    "import requests\n",
    "from bs4 import BeautifulSoup\n",
    "\n",
    "def get_title(url):\n",
    "    html = requests.get(url)\n",
    "    soup = BeautifulSoup(html.text, 'html.parser')\n",
    "    title = soup.select_one('title').text\n",
    "    return title\n",
    "\n",
    "# save title in df\n",
    "df['title'] = df.url.apply(lambda x: get_title(x))"
   ]
  },
  {
   "cell_type": "code",
   "execution_count": 16,
   "metadata": {},
   "outputs": [
    {
     "data": {
      "text/html": [
       "<div>\n",
       "<style scoped>\n",
       "    .dataframe tbody tr th:only-of-type {\n",
       "        vertical-align: middle;\n",
       "    }\n",
       "\n",
       "    .dataframe tbody tr th {\n",
       "        vertical-align: top;\n",
       "    }\n",
       "\n",
       "    .dataframe thead th {\n",
       "        text-align: right;\n",
       "    }\n",
       "</style>\n",
       "<table border=\"1\" class=\"dataframe\">\n",
       "  <thead>\n",
       "    <tr style=\"text-align: right;\">\n",
       "      <th></th>\n",
       "      <th>url</th>\n",
       "      <th>text</th>\n",
       "      <th>video_id</th>\n",
       "      <th>title</th>\n",
       "    </tr>\n",
       "  </thead>\n",
       "  <tbody>\n",
       "    <tr>\n",
       "      <th>0</th>\n",
       "      <td>https://youtube.com/watch?v=njALaJPoNio</td>\n",
       "      <td>휴증이 풀린 통화량보다 아파트 시가총액이 많다는 얘기는 뭐예요? 그만큼 거품이 있...</td>\n",
       "      <td>watch?v=njALaJPoNio</td>\n",
       "      <td>\"구체적인 근거가 나왔습니다\" 집값 거품빠지는 만큼 '큰돈' 벌 기회 온다 (김기원...</td>\n",
       "    </tr>\n",
       "    <tr>\n",
       "      <th>1</th>\n",
       "      <td>https://youtube.com/watch?v=fg2w8YmM_OM</td>\n",
       "      <td>하이닉스 중국의 우시공장이 중국 자본도 들어가 있다고 하더라고요. 그럼 중국이 요...</td>\n",
       "      <td>watch?v=fg2w8YmM_OM</td>\n",
       "      <td>한국경제에 '먹구름' 밀려온다. 방심하다간 큰일납니다 (염승환 이사 2부 풀버전) ...</td>\n",
       "    </tr>\n",
       "    <tr>\n",
       "      <th>2</th>\n",
       "      <td>https://youtube.com/watch?v=eDQhkDaaEV4</td>\n",
       "      <td>근데 그 사이에 나는 10만원씩 1년이면 120만원, 1200만원을 눈이 오나 비...</td>\n",
       "      <td>watch?v=eDQhkDaaEV4</td>\n",
       "      <td>100살까지 먹고 살게 해줄 주식투자법. 노후 걱정 필요 없습니다 (강창희대표 3부...</td>\n",
       "    </tr>\n",
       "    <tr>\n",
       "      <th>3</th>\n",
       "      <td>https://youtube.com/watch?v=9vbwK3OMyiM</td>\n",
       "      <td>전 재산을 지금 상실한 상황이에요. 그런 상태에서 이자는 지금 계속 나가야 돼. ...</td>\n",
       "      <td>watch?v=9vbwK3OMyiM</td>\n",
       "      <td>이제부터 지옥입니다..집값 반토막 나는 과정 (공포의 시나리오) - YouTube</td>\n",
       "    </tr>\n",
       "    <tr>\n",
       "      <th>4</th>\n",
       "      <td>https://youtube.com/watch?v=domo2_0Aw2g</td>\n",
       "      <td>테슬라가 중국 시장에서 마켓쉐어를 상실하고 있는 일이 지금 일어나고 있어요. 이 ...</td>\n",
       "      <td>watch?v=domo2_0Aw2g</td>\n",
       "      <td>2차전지 잘못 알다간 '큰 돈' 놓칩니다. 가장 정확한 팩트만을 말씀드립니다. (박...</td>\n",
       "    </tr>\n",
       "    <tr>\n",
       "      <th>5</th>\n",
       "      <td>https://youtube.com/watch?v=MGIzZujNhzI</td>\n",
       "      <td>그러면 다음 사이클에서 하락을 겪고 상승하게 되면 결국엔 우상향하거든요, 그래프상...</td>\n",
       "      <td>watch?v=MGIzZujNhzI</td>\n",
       "      <td>대부분의 사람들이 하는 부동산에 대한 착각 - YouTube</td>\n",
       "    </tr>\n",
       "    <tr>\n",
       "      <th>6</th>\n",
       "      <td>https://youtube.com/watch?v=G9MIAwESTgk</td>\n",
       "      <td>일본인들은 미국 거였어요. 메가도가 사령관이었죠. 메가도가 일본의 우두머리였던 겁...</td>\n",
       "      <td>watch?v=G9MIAwESTgk</td>\n",
       "      <td>세계 1위였던 일본이 가르쳐준 '경제거품' 꺼지는 3가지 신호(김정호 교수 2부 풀...</td>\n",
       "    </tr>\n",
       "    <tr>\n",
       "      <th>7</th>\n",
       "      <td>https://youtube.com/watch?v=OYA5gOC6cp0</td>\n",
       "      <td>동기부여도 되고 뭔가 나도 될 것 같고 죄송합니다 안 됩니다 거기까지입니다 쉽게 ...</td>\n",
       "      <td>watch?v=OYA5gOC6cp0</td>\n",
       "      <td>주차요원에서 연매출 30억 사장님을 만든 3가지 습관 - YouTube</td>\n",
       "    </tr>\n",
       "  </tbody>\n",
       "</table>\n",
       "</div>"
      ],
      "text/plain": [
       "                                       url  \\\n",
       "0  https://youtube.com/watch?v=njALaJPoNio   \n",
       "1  https://youtube.com/watch?v=fg2w8YmM_OM   \n",
       "2  https://youtube.com/watch?v=eDQhkDaaEV4   \n",
       "3  https://youtube.com/watch?v=9vbwK3OMyiM   \n",
       "4  https://youtube.com/watch?v=domo2_0Aw2g   \n",
       "5  https://youtube.com/watch?v=MGIzZujNhzI   \n",
       "6  https://youtube.com/watch?v=G9MIAwESTgk   \n",
       "7  https://youtube.com/watch?v=OYA5gOC6cp0   \n",
       "\n",
       "                                                text             video_id  \\\n",
       "0   휴증이 풀린 통화량보다 아파트 시가총액이 많다는 얘기는 뭐예요? 그만큼 거품이 있...  watch?v=njALaJPoNio   \n",
       "1   하이닉스 중국의 우시공장이 중국 자본도 들어가 있다고 하더라고요. 그럼 중국이 요...  watch?v=fg2w8YmM_OM   \n",
       "2   근데 그 사이에 나는 10만원씩 1년이면 120만원, 1200만원을 눈이 오나 비...  watch?v=eDQhkDaaEV4   \n",
       "3   전 재산을 지금 상실한 상황이에요. 그런 상태에서 이자는 지금 계속 나가야 돼. ...  watch?v=9vbwK3OMyiM   \n",
       "4   테슬라가 중국 시장에서 마켓쉐어를 상실하고 있는 일이 지금 일어나고 있어요. 이 ...  watch?v=domo2_0Aw2g   \n",
       "5   그러면 다음 사이클에서 하락을 겪고 상승하게 되면 결국엔 우상향하거든요, 그래프상...  watch?v=MGIzZujNhzI   \n",
       "6   일본인들은 미국 거였어요. 메가도가 사령관이었죠. 메가도가 일본의 우두머리였던 겁...  watch?v=G9MIAwESTgk   \n",
       "7   동기부여도 되고 뭔가 나도 될 것 같고 죄송합니다 안 됩니다 거기까지입니다 쉽게 ...  watch?v=OYA5gOC6cp0   \n",
       "\n",
       "                                               title  \n",
       "0  \"구체적인 근거가 나왔습니다\" 집값 거품빠지는 만큼 '큰돈' 벌 기회 온다 (김기원...  \n",
       "1  한국경제에 '먹구름' 밀려온다. 방심하다간 큰일납니다 (염승환 이사 2부 풀버전) ...  \n",
       "2  100살까지 먹고 살게 해줄 주식투자법. 노후 걱정 필요 없습니다 (강창희대표 3부...  \n",
       "3      이제부터 지옥입니다..집값 반토막 나는 과정 (공포의 시나리오) - YouTube  \n",
       "4  2차전지 잘못 알다간 '큰 돈' 놓칩니다. 가장 정확한 팩트만을 말씀드립니다. (박...  \n",
       "5                  대부분의 사람들이 하는 부동산에 대한 착각 - YouTube  \n",
       "6  세계 1위였던 일본이 가르쳐준 '경제거품' 꺼지는 3가지 신호(김정호 교수 2부 풀...  \n",
       "7            주차요원에서 연매출 30억 사장님을 만든 3가지 습관 - YouTube  "
      ]
     },
     "execution_count": 16,
     "metadata": {},
     "output_type": "execute_result"
    }
   ],
   "source": [
    "df"
   ]
  },
  {
   "cell_type": "code",
   "execution_count": 17,
   "metadata": {},
   "outputs": [],
   "source": [
    "# save df as csv file without text column\n",
    "\n",
    "df.drop('text', axis=1).to_csv('./sample_youtube_db.csv', index=False)"
   ]
  },
  {
   "cell_type": "code",
   "execution_count": 7,
   "metadata": {},
   "outputs": [],
   "source": [
    "df = pd.read_csv('./db/sample_youtube_db.csv')"
   ]
  },
  {
   "cell_type": "code",
   "execution_count": 8,
   "metadata": {},
   "outputs": [
    {
     "data": {
      "text/html": [
       "<div>\n",
       "<style scoped>\n",
       "    .dataframe tbody tr th:only-of-type {\n",
       "        vertical-align: middle;\n",
       "    }\n",
       "\n",
       "    .dataframe tbody tr th {\n",
       "        vertical-align: top;\n",
       "    }\n",
       "\n",
       "    .dataframe thead th {\n",
       "        text-align: right;\n",
       "    }\n",
       "</style>\n",
       "<table border=\"1\" class=\"dataframe\">\n",
       "  <thead>\n",
       "    <tr style=\"text-align: right;\">\n",
       "      <th></th>\n",
       "      <th>url</th>\n",
       "      <th>video_id</th>\n",
       "      <th>title</th>\n",
       "    </tr>\n",
       "  </thead>\n",
       "  <tbody>\n",
       "    <tr>\n",
       "      <th>0</th>\n",
       "      <td>https://youtube.com/watch?v=njALaJPoNio</td>\n",
       "      <td>watch?v=njALaJPoNio</td>\n",
       "      <td>\"구체적인 근거가 나왔습니다\" 집값 거품빠지는 만큼 '큰돈' 벌 기회 온다 (김기원...</td>\n",
       "    </tr>\n",
       "    <tr>\n",
       "      <th>1</th>\n",
       "      <td>https://youtube.com/watch?v=fg2w8YmM_OM</td>\n",
       "      <td>watch?v=fg2w8YmM_OM</td>\n",
       "      <td>한국경제에 '먹구름' 밀려온다. 방심하다간 큰일납니다 (염승환 이사 2부 풀버전) ...</td>\n",
       "    </tr>\n",
       "    <tr>\n",
       "      <th>2</th>\n",
       "      <td>https://youtube.com/watch?v=eDQhkDaaEV4</td>\n",
       "      <td>watch?v=eDQhkDaaEV4</td>\n",
       "      <td>100살까지 먹고 살게 해줄 주식투자법. 노후 걱정 필요 없습니다 (강창희대표 3부...</td>\n",
       "    </tr>\n",
       "    <tr>\n",
       "      <th>3</th>\n",
       "      <td>https://youtube.com/watch?v=9vbwK3OMyiM</td>\n",
       "      <td>watch?v=9vbwK3OMyiM</td>\n",
       "      <td>이제부터 지옥입니다..집값 반토막 나는 과정 (공포의 시나리오) - YouTube</td>\n",
       "    </tr>\n",
       "    <tr>\n",
       "      <th>4</th>\n",
       "      <td>https://youtube.com/watch?v=domo2_0Aw2g</td>\n",
       "      <td>watch?v=domo2_0Aw2g</td>\n",
       "      <td>2차전지 잘못 알다간 '큰 돈' 놓칩니다. 가장 정확한 팩트만을 말씀드립니다. (박...</td>\n",
       "    </tr>\n",
       "  </tbody>\n",
       "</table>\n",
       "</div>"
      ],
      "text/plain": [
       "                                       url             video_id  \\\n",
       "0  https://youtube.com/watch?v=njALaJPoNio  watch?v=njALaJPoNio   \n",
       "1  https://youtube.com/watch?v=fg2w8YmM_OM  watch?v=fg2w8YmM_OM   \n",
       "2  https://youtube.com/watch?v=eDQhkDaaEV4  watch?v=eDQhkDaaEV4   \n",
       "3  https://youtube.com/watch?v=9vbwK3OMyiM  watch?v=9vbwK3OMyiM   \n",
       "4  https://youtube.com/watch?v=domo2_0Aw2g  watch?v=domo2_0Aw2g   \n",
       "\n",
       "                                               title  \n",
       "0  \"구체적인 근거가 나왔습니다\" 집값 거품빠지는 만큼 '큰돈' 벌 기회 온다 (김기원...  \n",
       "1  한국경제에 '먹구름' 밀려온다. 방심하다간 큰일납니다 (염승환 이사 2부 풀버전) ...  \n",
       "2  100살까지 먹고 살게 해줄 주식투자법. 노후 걱정 필요 없습니다 (강창희대표 3부...  \n",
       "3      이제부터 지옥입니다..집값 반토막 나는 과정 (공포의 시나리오) - YouTube  \n",
       "4  2차전지 잘못 알다간 '큰 돈' 놓칩니다. 가장 정확한 팩트만을 말씀드립니다. (박...  "
      ]
     },
     "execution_count": 8,
     "metadata": {},
     "output_type": "execute_result"
    }
   ],
   "source": [
    "df.head()"
   ]
  },
  {
   "cell_type": "code",
   "execution_count": 25,
   "metadata": {},
   "outputs": [
    {
     "data": {
      "text/plain": [
       "'이제부터 지옥입니다..집값 반토막 나는 과정 (공포의 시나리오) - YouTube'"
      ]
     },
     "execution_count": 25,
     "metadata": {},
     "output_type": "execute_result"
    }
   ],
   "source": [
    "# from certain video id get row number\n",
    "# \"watch?v=9vbwK3OMyiM\" in df.video_id.tolist()\n",
    "\n",
    "video_id = \"watch?v=9vbwK3OMyiM\"\n",
    "video_index = df.video_id.tolist().index(video_id)\n",
    "df.title[video_index]"
   ]
  },
  {
   "cell_type": "code",
   "execution_count": null,
   "metadata": {},
   "outputs": [],
   "source": []
  }
 ],
 "metadata": {
  "kernelspec": {
   "display_name": "autogpt",
   "language": "python",
   "name": "autogpt"
  },
  "language_info": {
   "codemirror_mode": {
    "name": "ipython",
    "version": 3
   },
   "file_extension": ".py",
   "mimetype": "text/x-python",
   "name": "python",
   "nbconvert_exporter": "python",
   "pygments_lexer": "ipython3",
   "version": "3.9.0"
  },
  "orig_nbformat": 4
 },
 "nbformat": 4,
 "nbformat_minor": 2
}
